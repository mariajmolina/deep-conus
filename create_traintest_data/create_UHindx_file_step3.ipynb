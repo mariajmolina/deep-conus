{
 "cells": [
  {
   "cell_type": "markdown",
   "metadata": {},
   "source": [
    "# Creation of Storm Patches with UH values that Do Not Exceed 75 m2/s2\n",
    "\n",
    "### This Jupyter Notebook separates the storm patches that exceed or do not exceed the desired UH threshold, which is 75 m2/s2 in this example.\n",
    "### The output files contain the storm patch temperature, u/v winds, pressure, water vapor mixing ratio, and graupel values.\n",
    "### This script requires the index files that were created using a previous script.\n",
    "\n",
    "First, import packages of interest."
   ]
  },
  {
   "cell_type": "code",
   "execution_count": 1,
   "metadata": {},
   "outputs": [],
   "source": [
    "import numpy as np\n",
    "import xarray as xr\n",
    "import pandas as pd"
   ]
  },
  {
   "cell_type": "markdown",
   "metadata": {},
   "source": [
    "1 - Select the climate simulation of interest (current or future climate). \n",
    "\n",
    "2 - Create array of months across the simulation time period. WRF CONUS1 simulations span October 2000 through September 2013."
   ]
  },
  {
   "cell_type": "code",
   "execution_count": 2,
   "metadata": {},
   "outputs": [],
   "source": [
    "which_climate = 'future'\n",
    "\n",
    "time_array = pd.date_range('2000-10-01','2013-09-30',freq='MS')[(pd.date_range('2000-10-01','2013-09-30',freq='MS').month==5)]\n",
    "\n",
    "#time_array = pd.date_range('2000-10-01','2013-09-30',freq='MS')[(pd.date_range('2000-10-01','2013-09-30',freq='MS').month==12)|\n",
    "#                                                                (pd.date_range('2000-10-01','2013-09-30',freq='MS').month==1)|\n",
    "#                                                                (pd.date_range('2000-10-01','2013-09-30',freq='MS').month==2)|\n",
    "#                                                                (pd.date_range('2000-10-01','2013-09-30',freq='MS').month==3)|\n",
    "#                                                                (pd.date_range('2000-10-01','2013-09-30',freq='MS').month==4)|\n",
    "#                                                                (pd.date_range('2000-10-01','2013-09-30',freq='MS').month==5)]"
   ]
  },
  {
   "cell_type": "code",
   "execution_count": 3,
   "metadata": {},
   "outputs": [
    {
     "data": {
      "text/plain": [
       "DatetimeIndex(['2001-05-01', '2002-05-01', '2003-05-01', '2004-05-01',\n",
       "               '2005-05-01', '2006-05-01', '2007-05-01', '2008-05-01',\n",
       "               '2009-05-01', '2010-05-01', '2011-05-01', '2012-05-01',\n",
       "               '2013-05-01'],\n",
       "              dtype='datetime64[ns]', freq=None)"
      ]
     },
     "execution_count": 3,
     "metadata": {},
     "output_type": "execute_result"
    }
   ],
   "source": [
    "time_array"
   ]
  },
  {
   "cell_type": "markdown",
   "metadata": {},
   "source": [
    "1 - Open index files that were previously created for each month in the temporal period of interest.\n",
    "\n",
    "2 - Open the corresponding storm patches.\n",
    "\n",
    "3 - Extract the storm patch variable values and filter them by the storm patch indices of patches that **did not exceed 75 m2/s2**.\n",
    "\n",
    "4 - Create xarray data set of the filtered storm patches and associated variables for future use.\n",
    "\n",
    "5 - Save to disk."
   ]
  },
  {
   "cell_type": "code",
   "execution_count": null,
   "metadata": {},
   "outputs": [],
   "source": [
    "data_temp_sev_1 = []; data_temp_sev_3 = []; data_temp_sev_5 = []; data_temp_sev_7 = []\n",
    "data_evwd_sev_1 = []; data_evwd_sev_3 = []; data_evwd_sev_5 = []; data_evwd_sev_7 = []\n",
    "data_euwd_sev_1 = []; data_euwd_sev_3 = []; data_euwd_sev_5 = []; data_euwd_sev_7 = []\n",
    "data_qvap_sev_1 = []; data_qvap_sev_3 = []; data_qvap_sev_5 = []; data_qvap_sev_7 = []\n",
    "data_pres_sev_1 = []; data_pres_sev_3 = []; data_pres_sev_5 = []; data_pres_sev_7 = []\n",
    "data_qgrp_sev_1 = []; data_qgrp_sev_3 = []; data_qgrp_sev_5 = []; data_qgrp_sev_7 = []\n",
    "\n",
    "for time in time_array[:]:\n",
    "\n",
    "    data_mask = \\\n",
    "    xr.open_mfdataset(f\"/glade/scratch/molina/WRF_CONUS1_derived/storm_envs/{which_climate}_conus1_indx75_{time.strftime('%Y')}{time.strftime('%m')}.nc\",\n",
    "                      combine='by_coords')\n",
    "    data_temp = \\\n",
    "    xr.open_mfdataset(f\"/glade/scratch/molina/WRF_CONUS1_derived/storm_envs/{which_climate}_conus1_tk_{time.strftime('%Y')}{time.strftime('%m')}*.nc\",\n",
    "                      combine='by_coords')\n",
    "    data_evwd = \\\n",
    "    xr.open_mfdataset(f\"/glade/scratch/molina/WRF_CONUS1_derived/storm_envs/{which_climate}_conus1_ev_{time.strftime('%Y')}{time.strftime('%m')}*.nc\",\n",
    "                      combine='by_coords')\n",
    "    data_euwd = \\\n",
    "    xr.open_mfdataset(f\"/glade/scratch/molina/WRF_CONUS1_derived/storm_envs/{which_climate}_conus1_eu_{time.strftime('%Y')}{time.strftime('%m')}*.nc\",\n",
    "                      combine='by_coords')\n",
    "    data_qvap = \\\n",
    "    xr.open_mfdataset(f\"/glade/scratch/molina/WRF_CONUS1_derived/storm_envs/{which_climate}_conus1_qvapor_{time.strftime('%Y')}{time.strftime('%m')}*.nc\",\n",
    "                      combine='by_coords')\n",
    "    data_pres = \\\n",
    "    xr.open_mfdataset(f\"/glade/scratch/molina/WRF_CONUS1_derived/storm_envs/{which_climate}_conus1_p_{time.strftime('%Y')}{time.strftime('%m')}*.nc\",\n",
    "                      combine='by_coords')\n",
    "    data_qgrp = \\\n",
    "    xr.open_mfdataset(f\"/glade/scratch/molina/WRF_CONUS1_derived/storm_envs/{which_climate}_conus1_qgraup_{time.strftime('%Y')}{time.strftime('%m')}*.nc\",\n",
    "                      combine='by_coords')\n",
    "\n",
    "    data_temp_sev_1.append(np.delete(data_temp.var_grid.sel(levels=0).values,data_mask.grid.values,axis=0))\n",
    "    data_temp_sev_3.append(np.delete(data_temp.var_grid.sel(levels=1).values,data_mask.grid.values,axis=0))\n",
    "    data_temp_sev_5.append(np.delete(data_temp.var_grid.sel(levels=2).values,data_mask.grid.values,axis=0))\n",
    "    data_temp_sev_7.append(np.delete(data_temp.var_grid.sel(levels=3).values,data_mask.grid.values,axis=0))\n",
    "\n",
    "    data_evwd_sev_1.append(np.delete(data_evwd.var_grid.sel(levels=0).values,data_mask.grid.values,axis=0))\n",
    "    data_evwd_sev_3.append(np.delete(data_evwd.var_grid.sel(levels=1).values,data_mask.grid.values,axis=0))\n",
    "    data_evwd_sev_5.append(np.delete(data_evwd.var_grid.sel(levels=2).values,data_mask.grid.values,axis=0))\n",
    "    data_evwd_sev_7.append(np.delete(data_evwd.var_grid.sel(levels=3).values,data_mask.grid.values,axis=0))\n",
    "\n",
    "    data_euwd_sev_1.append(np.delete(data_euwd.var_grid.sel(levels=0).values,data_mask.grid.values,axis=0))\n",
    "    data_euwd_sev_3.append(np.delete(data_euwd.var_grid.sel(levels=1).values,data_mask.grid.values,axis=0))\n",
    "    data_euwd_sev_5.append(np.delete(data_euwd.var_grid.sel(levels=2).values,data_mask.grid.values,axis=0))\n",
    "    data_euwd_sev_7.append(np.delete(data_euwd.var_grid.sel(levels=3).values,data_mask.grid.values,axis=0))\n",
    "\n",
    "    data_qvap_sev_1.append(np.delete(data_qvap.var_grid.sel(levels=0).values,data_mask.grid.values,axis=0))\n",
    "    data_qvap_sev_3.append(np.delete(data_qvap.var_grid.sel(levels=1).values,data_mask.grid.values,axis=0))\n",
    "    data_qvap_sev_5.append(np.delete(data_qvap.var_grid.sel(levels=2).values,data_mask.grid.values,axis=0))\n",
    "    data_qvap_sev_7.append(np.delete(data_qvap.var_grid.sel(levels=3).values,data_mask.grid.values,axis=0))\n",
    "\n",
    "    data_pres_sev_1.append(np.delete(data_pres.var_grid.sel(levels=0).values,data_mask.grid.values,axis=0))\n",
    "    data_pres_sev_3.append(np.delete(data_pres.var_grid.sel(levels=1).values,data_mask.grid.values,axis=0))\n",
    "    data_pres_sev_5.append(np.delete(data_pres.var_grid.sel(levels=2).values,data_mask.grid.values,axis=0))\n",
    "    data_pres_sev_7.append(np.delete(data_pres.var_grid.sel(levels=3).values,data_mask.grid.values,axis=0))\n",
    "\n",
    "    data_qgrp_sev_1.append(np.delete(data_qgrp.var_grid.sel(levels=0).values,data_mask.grid.values,axis=0))\n",
    "    data_qgrp_sev_3.append(np.delete(data_qgrp.var_grid.sel(levels=1).values,data_mask.grid.values,axis=0))\n",
    "    data_qgrp_sev_5.append(np.delete(data_qgrp.var_grid.sel(levels=2).values,data_mask.grid.values,axis=0))\n",
    "    data_qgrp_sev_7.append(np.delete(data_qgrp.var_grid.sel(levels=3).values,data_mask.grid.values,axis=0))\n",
    "    \n",
    "data_temp_sev_1_patches = [j for i in data_temp_sev_1 for j in i]\n",
    "data_temp_sev_3_patches = [j for i in data_temp_sev_3 for j in i]\n",
    "data_temp_sev_5_patches = [j for i in data_temp_sev_5 for j in i]\n",
    "data_temp_sev_7_patches = [j for i in data_temp_sev_7 for j in i]\n",
    "\n",
    "data_evwd_sev_1_patches = [j for i in data_evwd_sev_1 for j in i]\n",
    "data_evwd_sev_3_patches = [j for i in data_evwd_sev_3 for j in i]\n",
    "data_evwd_sev_5_patches = [j for i in data_evwd_sev_5 for j in i]\n",
    "data_evwd_sev_7_patches = [j for i in data_evwd_sev_7 for j in i]\n",
    "\n",
    "data_euwd_sev_1_patches = [j for i in data_euwd_sev_1 for j in i]\n",
    "data_euwd_sev_3_patches = [j for i in data_euwd_sev_3 for j in i]\n",
    "data_euwd_sev_5_patches = [j for i in data_euwd_sev_5 for j in i]\n",
    "data_euwd_sev_7_patches = [j for i in data_euwd_sev_7 for j in i]\n",
    "\n",
    "data_qvap_sev_1_patches = [j for i in data_qvap_sev_1 for j in i]\n",
    "data_qvap_sev_3_patches = [j for i in data_qvap_sev_3 for j in i]\n",
    "data_qvap_sev_5_patches = [j for i in data_qvap_sev_5 for j in i]\n",
    "data_qvap_sev_7_patches = [j for i in data_qvap_sev_7 for j in i]\n",
    "\n",
    "data_pres_sev_1_patches = [j for i in data_pres_sev_1 for j in i]\n",
    "data_pres_sev_3_patches = [j for i in data_pres_sev_3 for j in i]\n",
    "data_pres_sev_5_patches = [j for i in data_pres_sev_5 for j in i]\n",
    "data_pres_sev_7_patches = [j for i in data_pres_sev_7 for j in i]\n",
    "\n",
    "data_qgrp_sev_1_patches = [j for i in data_qgrp_sev_1 for j in i]\n",
    "data_qgrp_sev_3_patches = [j for i in data_qgrp_sev_3 for j in i]\n",
    "data_qgrp_sev_5_patches = [j for i in data_qgrp_sev_5 for j in i]\n",
    "data_qgrp_sev_7_patches = [j for i in data_qgrp_sev_7 for j in i]\n",
    "\n",
    "data_assemble = xr.Dataset({\n",
    "    'temp_sev_1':(['patch','y','x'], np.array(data_temp_sev_1_patches)),\n",
    "    'temp_sev_3':(['patch','y','x'], np.array(data_temp_sev_3_patches)),\n",
    "    'temp_sev_5':(['patch','y','x'], np.array(data_temp_sev_5_patches)),\n",
    "    'temp_sev_7':(['patch','y','x'], np.array(data_temp_sev_7_patches)),\n",
    "\n",
    "    'evwd_sev_1':(['patch','y','x'], np.array(data_evwd_sev_1_patches)),\n",
    "    'evwd_sev_3':(['patch','y','x'], np.array(data_evwd_sev_3_patches)),\n",
    "    'evwd_sev_5':(['patch','y','x'], np.array(data_evwd_sev_5_patches)),\n",
    "    'evwd_sev_7':(['patch','y','x'], np.array(data_evwd_sev_7_patches)),\n",
    "\n",
    "    'euwd_sev_1':(['patch','y','x'], np.array(data_euwd_sev_1_patches)),\n",
    "    'euwd_sev_3':(['patch','y','x'], np.array(data_euwd_sev_3_patches)),\n",
    "    'euwd_sev_5':(['patch','y','x'], np.array(data_euwd_sev_5_patches)),\n",
    "    'euwd_sev_7':(['patch','y','x'], np.array(data_euwd_sev_7_patches)),\n",
    "\n",
    "    'qvap_sev_1':(['patch','y','x'], np.array(data_qvap_sev_1_patches)),\n",
    "    'qvap_sev_3':(['patch','y','x'], np.array(data_qvap_sev_3_patches)),\n",
    "    'qvap_sev_5':(['patch','y','x'], np.array(data_qvap_sev_5_patches)),\n",
    "    'qvap_sev_7':(['patch','y','x'], np.array(data_qvap_sev_7_patches)),\n",
    "\n",
    "    'pres_sev_1':(['patch','y','x'], np.array(data_pres_sev_1_patches)),\n",
    "    'pres_sev_3':(['patch','y','x'], np.array(data_pres_sev_3_patches)),\n",
    "    'pres_sev_5':(['patch','y','x'], np.array(data_pres_sev_5_patches)),\n",
    "    'pres_sev_7':(['patch','y','x'], np.array(data_pres_sev_7_patches)),\n",
    "\n",
    "    'qgrp_sev_1':(['patch','y','x'], np.array(data_qgrp_sev_1_patches)),\n",
    "    'qgrp_sev_3':(['patch','y','x'], np.array(data_qgrp_sev_3_patches)),\n",
    "    'qgrp_sev_5':(['patch','y','x'], np.array(data_qgrp_sev_5_patches)),\n",
    "    'qgrp_sev_7':(['patch','y','x'], np.array(data_qgrp_sev_7_patches)),\n",
    "})\n",
    "\n",
    "data_assemble.to_netcdf(f\"/glade/scratch/molina/WRF_CONUS1_derived/storm_envs/{which_climate}_nonuh75patches_{time.strftime('%m')}.nc\")"
   ]
  },
  {
   "cell_type": "code",
   "execution_count": null,
   "metadata": {},
   "outputs": [],
   "source": []
  }
 ],
 "metadata": {
  "kernelspec": {
   "display_name": "Python [conda env:miniconda3-python-tutorial]",
   "language": "python",
   "name": "conda-env-miniconda3-python-tutorial-py"
  },
  "language_info": {
   "codemirror_mode": {
    "name": "ipython",
    "version": 3
   },
   "file_extension": ".py",
   "mimetype": "text/x-python",
   "name": "python",
   "nbconvert_exporter": "python",
   "pygments_lexer": "ipython3",
   "version": "3.7.3"
  }
 },
 "nbformat": 4,
 "nbformat_minor": 4
}
