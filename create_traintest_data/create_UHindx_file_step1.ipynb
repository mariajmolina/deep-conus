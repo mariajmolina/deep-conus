{
 "cells": [
  {
   "cell_type": "markdown",
   "metadata": {},
   "source": [
    "# Creation of List of Storm Patch Indices that Satisfy Condition (UH>75)\n",
    "\n",
    "### Save the arrays containing indices for the current and future climate simulations for use later in machine learning data creation.\n",
    "\n",
    "Import relevant packages."
   ]
  },
  {
   "cell_type": "code",
   "execution_count": 1,
   "metadata": {},
   "outputs": [],
   "source": [
    "import numpy as np\n",
    "import xarray as xr\n",
    "import pandas as pd"
   ]
  },
  {
   "cell_type": "markdown",
   "metadata": {},
   "source": [
    "1 - Create array of years and months to loop through for opening files.\n",
    "\n",
    "2 - Open current and future climate files.\n",
    "\n",
    "3 - Select indices of locations in data file where UH>75m2/s2.\n",
    "\n",
    "4 - Save index locations."
   ]
  },
  {
   "cell_type": "code",
   "execution_count": null,
   "metadata": {},
   "outputs": [],
   "source": [
    "#GRABBING INDICES\n",
    "\n",
    "time_array = pd.date_range('2000-10-01','2013-09-30',freq='MS')[(pd.date_range('2000-10-01','2013-09-30',freq='MS').month==12)|\n",
    "                                                                (pd.date_range('2000-10-01','2013-09-30',freq='MS').month==1)|\n",
    "                                                                (pd.date_range('2000-10-01','2013-09-30',freq='MS').month==2)|\n",
    "                                                                (pd.date_range('2000-10-01','2013-09-30',freq='MS').month==3)|\n",
    "                                                                (pd.date_range('2000-10-01','2013-09-30',freq='MS').month==4)|\n",
    "                                                                (pd.date_range('2000-10-01','2013-09-30',freq='MS').month==5)]\n",
    "\n",
    "for time in time_array[:]:\n",
    "    \n",
    "    data_uhct1 = \\\n",
    "        xr.open_mfdataset(f\"/glade/scratch/molina/WRF_CONUS1_derived/storm_envs/current_conus1_{time.strftime('%Y')}{time.strftime('%m')}*.nc\",\n",
    "                          combine='by_coords')    \n",
    "\n",
    "    data_assemble1 = xr.Dataset({\n",
    "        'grid':(['x'], np.argwhere(data_uhct1.uh_grid.values.max(axis=(1,2))>75)[:,0]),\n",
    "    })\n",
    "    data_assemble1.to_netcdf(f\"/glade/scratch/molina/WRF_CONUS1_derived/storm_envs/current_conus1_indx75_{time.strftime('%Y')}{time.strftime('%m')}.nc\")\n",
    "    \n",
    "    data_uhct2 = \\\n",
    "        xr.open_mfdataset(f\"/glade/scratch/molina/WRF_CONUS1_derived/storm_envs/future_conus1_{time.strftime('%Y')}{time.strftime('%m')}*.nc\",\n",
    "                          combine='by_coords')    \n",
    "\n",
    "    data_assemble2 = xr.Dataset({\n",
    "        'grid':(['x'], np.argwhere(data_uhct2.uh_grid.values.max(axis=(1,2))>75)[:,0]),\n",
    "    })\n",
    "    data_assemble2.to_netcdf(f\"/glade/scratch/molina/WRF_CONUS1_derived/storm_envs/future_conus1_indx75_{time.strftime('%Y')}{time.strftime('%m')}.nc\")"
   ]
  }
 ],
 "metadata": {
  "kernelspec": {
   "display_name": "Python [conda env:miniconda3-python-tutorial]",
   "language": "python",
   "name": "conda-env-miniconda3-python-tutorial-py"
  },
  "language_info": {
   "codemirror_mode": {
    "name": "ipython",
    "version": 3
   },
   "file_extension": ".py",
   "mimetype": "text/x-python",
   "name": "python",
   "nbconvert_exporter": "python",
   "pygments_lexer": "ipython3",
   "version": "3.7.3"
  }
 },
 "nbformat": 4,
 "nbformat_minor": 4
}
