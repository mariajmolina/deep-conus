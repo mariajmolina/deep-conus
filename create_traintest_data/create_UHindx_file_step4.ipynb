{
 "cells": [
  {
   "cell_type": "markdown",
   "metadata": {},
   "source": [
    "# Creation of Storm Patches with UH values that Exceed 75 m2/s2\n",
    "\n",
    "### This Jupyter Notebook separates the storm patches that exceed or do not exceed the desired UH threshold, which is 75 m2/s2 in this example.\n",
    "### The output files only contain the UH values.\n",
    "### This script requires the index files that were created using a previous script.\n",
    "\n",
    "First, import packages of interest."
   ]
  },
  {
   "cell_type": "code",
   "execution_count": 4,
   "metadata": {},
   "outputs": [],
   "source": [
    "import numpy as np\n",
    "import xarray as xr\n",
    "import pandas as pd"
   ]
  },
  {
   "cell_type": "markdown",
   "metadata": {},
   "source": [
    "1 - Select the climate simulation of interest (current or future climate). \n",
    "\n",
    "2 - Create array of months across the simulation time period. WRF CONUS1 simulations span October 2000 through September 2013."
   ]
  },
  {
   "cell_type": "code",
   "execution_count": 5,
   "metadata": {},
   "outputs": [],
   "source": [
    "which_climate = 'future'\n",
    "\n",
    "time_array = pd.date_range('2000-10-01','2013-09-30',freq='MS')[(pd.date_range('2000-10-01','2013-09-30',freq='MS').month==5)]\n",
    "\n",
    "#time_array = pd.date_range('2000-10-01','2013-09-30',freq='MS')[(pd.date_range('2000-10-01','2013-09-30',freq='MS').month==12)|\n",
    "#                                                                (pd.date_range('2000-10-01','2013-09-30',freq='MS').month==1)|\n",
    "#                                                                (pd.date_range('2000-10-01','2013-09-30',freq='MS').month==2)|\n",
    "#                                                                (pd.date_range('2000-10-01','2013-09-30',freq='MS').month==3)|\n",
    "#                                                                (pd.date_range('2000-10-01','2013-09-30',freq='MS').month==4)|\n",
    "#                                                                (pd.date_range('2000-10-01','2013-09-30',freq='MS').month==5)]"
   ]
  },
  {
   "cell_type": "markdown",
   "metadata": {},
   "source": [
    "1 - Open index files that were previously created for each month in the temporal period of interest.\n",
    "\n",
    "2 - Open the corresponding storm patches.\n",
    "\n",
    "3 - Extract the storm patch UH values and filter them by the storm patch indices of patches that exceeded 75 m2/s2.\n",
    "\n",
    "4 - Create xarray data set of the filtered storm patches for future use.\n",
    "\n",
    "5 - Save to disk."
   ]
  },
  {
   "cell_type": "code",
   "execution_count": 6,
   "metadata": {},
   "outputs": [],
   "source": [
    "data_uh_sev_1 = []\n",
    "\n",
    "for time in time_array[:]:\n",
    "    \n",
    "    data_mask = \\\n",
    "    xr.open_mfdataset(f\"/glade/scratch/molina/WRF_CONUS1_derived/storm_envs/{which_climate}_conus1_indx75_{time.strftime('%Y')}{time.strftime('%m')}.nc\",\n",
    "                      combine='by_coords')\n",
    "    data_temp = \\\n",
    "    xr.open_mfdataset(f\"/glade/scratch/molina/WRF_CONUS1_derived/storm_envs/{which_climate}_conus1_{time.strftime('%Y')}{time.strftime('%m')}*.nc\",\n",
    "                      combine='by_coords')\n",
    "    \n",
    "    \n",
    "    data_uh_sev_1.append(data_temp.uh_grid.values[data_mask.grid,:,:])\n",
    "    \n",
    "    break\n",
    "\n",
    "data_uh_sev_1_patches = [j for i in data_uh_sev_1 for j in i]\n",
    "\n",
    "data_assemble = xr.Dataset({\n",
    "    'uhel_sev_1':(['patch','y','x'], np.array(data_uh_sev_1_patches)),\n",
    "})\n",
    "\n",
    "data_assemble.to_netcdf(f\"/glade/scratch/molina/WRF_CONUS1_derived/storm_envs/{which_climate}_uh75patchesUH_{time.strftime('%m')}.nc\")"
   ]
  },
  {
   "cell_type": "code",
   "execution_count": null,
   "metadata": {},
   "outputs": [],
   "source": []
  }
 ],
 "metadata": {
  "kernelspec": {
   "display_name": "Python [conda env:miniconda3-python-tutorial]",
   "language": "python",
   "name": "conda-env-miniconda3-python-tutorial-py"
  },
  "language_info": {
   "codemirror_mode": {
    "name": "ipython",
    "version": 3
   },
   "file_extension": ".py",
   "mimetype": "text/x-python",
   "name": "python",
   "nbconvert_exporter": "python",
   "pygments_lexer": "ipython3",
   "version": "3.7.3"
  }
 },
 "nbformat": 4,
 "nbformat_minor": 4
}
