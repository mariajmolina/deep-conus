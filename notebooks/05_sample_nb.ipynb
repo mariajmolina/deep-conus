{
 "cells": [
  {
   "cell_type": "markdown",
   "metadata": {},
   "source": [
    "## Sample Script for the split into training and testing data with ``05_dldata_splitpreprocessor`` module\n",
    "### This module is run before creating the deep learning model.\n",
    "\n",
    "Import the module."
   ]
  },
  {
   "cell_type": "code",
   "execution_count": 1,
   "metadata": {},
   "outputs": [],
   "source": [
    "exec(open('/glade/u/home/molina/python_scripts/deep-conus/deep-conus/05_dldata_splitpreprocessor.py').read())"
   ]
  },
  {
   "cell_type": "markdown",
   "metadata": {},
   "source": [
    "Generate the ``SplitAndStandardize`` object, for the respective climate and variable.\n",
    "\n",
    "The ``percent_split`` attribute is the percent of total data assigned for training. Here, we use 60% of total data for training. 40% will be used for testing.\n",
    "\n",
    "Make sure files are being assigned to proper folders for respective climate simulations."
   ]
  },
  {
   "cell_type": "markdown",
   "metadata": {},
   "source": [
    "Parallelizing the computations is not necessary. Just run the sequence of functions using the helper method ``run_sequence``.\n",
    "\n",
    "This function will produce two files, one containing the training and testing variable storm patch data and labels, and one containing the mean and standard deviation information of the respective variables for the training data. The distribution (mean, std) data will be helpful during deep learning model interpretation that will follow the training of the model."
   ]
  },
  {
   "cell_type": "markdown",
   "metadata": {},
   "source": [
    "The ``run_sequence`` method can also be looped through the various variables to automate the process."
   ]
  },
  {
   "cell_type": "code",
   "execution_count": 2,
   "metadata": {},
   "outputs": [],
   "source": [
    "which_climate='current'\n",
    "for thevar in ['EU', 'EV', 'QVAPOR', 'PRESS', 'W_vert', 'TK', 'CTT', 'WMAX', 'DBZ', 'UH25', 'UH03', 'MASK']:\n",
    "    test=SplitAndStandardize(climate=f'{which_climate}', \n",
    "                             variable=thevar, percent_split=0.6,\n",
    "                             working_directory=f'/glade/scratch/molina/DL_proj/{which_climate}_conus_fields/dl_preprocess/', \n",
    "                             threshold1=75, \n",
    "                             mask=False, unbalanced=True, validation=False, currenttrain_futuretest=False)\n",
    "    #test.run_sequence()"
   ]
  },
  {
   "cell_type": "code",
   "execution_count": 3,
   "metadata": {
    "tags": []
   },
   "outputs": [],
   "source": [
    "which_climate='future'\n",
    "for thevar in ['EU']:\n",
    "    test=SplitAndStandardize(climate=f'{which_climate}', \n",
    "                             variable=thevar, percent_split=0.6,\n",
    "                             working_directory=f'/glade/scratch/molina/DL_proj/{which_climate}_conus_fields/dl_preprocess/', \n",
    "                             threshold1=75, \n",
    "                             mask=False, unbalanced=True, validation=False, currenttrain_futuretest=True)\n",
    "    #test.run_sequence()"
   ]
  },
  {
   "cell_type": "code",
   "execution_count": 4,
   "metadata": {},
   "outputs": [
    {
     "name": "stdout",
     "output_type": "stream",
     "text": [
      "Opening files...\n",
      "Grabbing variables...\n",
      "Splitting data...\n",
      "Standardizing testing...\n",
      "Generating distribution files...\n",
      "Standardizing training...\n",
      "Stacking files...\n",
      "Saving file...\n",
      "File saved (future, ev, nomask).\n",
      "Opening files...\n",
      "Grabbing variables...\n",
      "Splitting data...\n",
      "Standardizing testing...\n",
      "Generating distribution files...\n",
      "Standardizing training...\n",
      "Stacking files...\n",
      "Saving file...\n",
      "File saved (future, qvapor, nomask).\n",
      "Opening files...\n",
      "Grabbing variables...\n",
      "Splitting data...\n",
      "Standardizing testing...\n",
      "Generating distribution files...\n",
      "Standardizing training...\n",
      "Stacking files...\n",
      "Saving file...\n",
      "File saved (future, p, nomask).\n",
      "Opening files...\n",
      "Grabbing variables...\n",
      "Splitting data...\n",
      "Standardizing testing...\n",
      "Generating distribution files...\n",
      "Standardizing training...\n",
      "Stacking files...\n",
      "Saving file...\n",
      "File saved (future, w, nomask).\n",
      "Opening files...\n",
      "Grabbing variables...\n",
      "Splitting data...\n",
      "Standardizing testing...\n",
      "Generating distribution files...\n",
      "Standardizing training...\n",
      "Stacking files...\n",
      "Saving file...\n",
      "File saved (future, tk, nomask).\n",
      "Opening files...\n",
      "Grabbing variables...\n",
      "Splitting data...\n",
      "Standardizing testing...\n",
      "Generating distribution files...\n",
      "Standardizing training...\n",
      "Stacking files...\n",
      "Saving file...\n",
      "File saved (future, ctt, nomask).\n",
      "Opening files...\n",
      "Grabbing variables...\n",
      "Splitting data...\n",
      "Standardizing testing...\n",
      "Generating distribution files...\n",
      "Standardizing training...\n",
      "Stacking files...\n",
      "Saving file...\n",
      "File saved (future, maxw, nomask).\n",
      "Opening files...\n",
      "Grabbing variables...\n",
      "Splitting data...\n",
      "Standardizing testing...\n",
      "Generating distribution files...\n",
      "Standardizing training...\n",
      "Stacking files...\n",
      "Saving file...\n",
      "File saved (future, dbz, nomask).\n",
      "Opening files...\n",
      "Grabbing variables...\n",
      "Splitting data...\n",
      "Standardizing testing...\n",
      "Generating distribution files...\n",
      "Standardizing training...\n",
      "Stacking files...\n",
      "Saving file...\n",
      "File saved (future, uh25, nomask).\n",
      "Opening files...\n",
      "Grabbing variables...\n",
      "Splitting data...\n",
      "Standardizing testing...\n",
      "Generating distribution files...\n",
      "Standardizing training...\n",
      "Stacking files...\n",
      "Saving file...\n",
      "File saved (future, uh03, nomask).\n",
      "Opening files...\n",
      "Grabbing variables...\n",
      "Splitting data...\n",
      "No standardizing training or testing because this is the storm patch mask...\n",
      "No generating distribution files either...\n",
      "Stacking files...\n",
      "Saving file...\n",
      "File saved (future, mask, nomask).\n"
     ]
    }
   ],
   "source": [
    "which_climate='future'\n",
    "for thevar in ['EV', 'QVAPOR', 'PRESS', 'W_vert', 'TK', 'CTT', 'WMAX', 'DBZ', 'UH25', 'UH03', 'MASK']:\n",
    "    test=SplitAndStandardize(climate=f'{which_climate}', \n",
    "                             variable=thevar, percent_split=0.6,\n",
    "                             working_directory=f'/glade/scratch/molina/DL_proj/{which_climate}_conus_fields/dl_preprocess/', \n",
    "                             threshold1=75, \n",
    "                             mask=False, unbalanced=True, validation=False, currenttrain_futuretest=True)\n",
    "    test.run_sequence()"
   ]
  },
  {
   "cell_type": "code",
   "execution_count": null,
   "metadata": {},
   "outputs": [],
   "source": []
  }
 ],
 "metadata": {
  "kernelspec": {
   "display_name": "Python [conda env:miniconda3-python-tutorial]",
   "language": "python",
   "name": "conda-env-miniconda3-python-tutorial-py"
  },
  "language_info": {
   "codemirror_mode": {
    "name": "ipython",
    "version": 3
   },
   "file_extension": ".py",
   "mimetype": "text/x-python",
   "name": "python",
   "nbconvert_exporter": "python",
   "pygments_lexer": "ipython3",
   "version": "3.7.3"
  }
 },
 "nbformat": 4,
 "nbformat_minor": 4
}
