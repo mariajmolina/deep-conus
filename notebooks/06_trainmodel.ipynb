{
 "cells": [
  {
   "cell_type": "markdown",
   "metadata": {},
   "source": [
    "## Sample Script for training and saving a deep learning model with ``06_dlmodel_trainer`` module\n",
    "\n",
    "Import the module."
   ]
  },
  {
   "cell_type": "code",
   "execution_count": 1,
   "metadata": {},
   "outputs": [],
   "source": [
    "exec(open('/glade/u/home/molina/python_scripts/deep-conus/deep-conus/06_dlmodel_trainer.py').read())"
   ]
  },
  {
   "cell_type": "markdown",
   "metadata": {},
   "source": [
    "Generate the ``DLTraining`` object. Select all respective parameters for the deep learning model, including ``model_num`` which will be used for saving history files and the model itself."
   ]
  },
  {
   "cell_type": "markdown",
   "metadata": {},
   "source": [
    "All steps to open training data and run the deep learning model's training can be conducted using ``sequence_funcs``."
   ]
  },
  {
   "cell_type": "code",
   "execution_count": 1,
   "metadata": {},
   "outputs": [],
   "source": [
    "#from tensorflow.python.client import device_lib"
   ]
  },
  {
   "cell_type": "code",
   "execution_count": 2,
   "metadata": {},
   "outputs": [],
   "source": [
    "#print(device_lib.list_local_devices())"
   ]
  },
  {
   "cell_type": "code",
   "execution_count": 3,
   "metadata": {},
   "outputs": [
    {
     "name": "stdout",
     "output_type": "stream",
     "text": [
      "Initiating session...\n",
      "Device mapping:\n",
      "/job:localhost/replica:0/task:0/device:XLA_CPU:0 -> device: XLA_CPU device\n",
      "\n",
      "Opening files...\n",
      "Generating training data and labels...\n",
      "Removing nans...\n",
      "Compiling model...\n",
      "Model: \"sequential_1\"\n",
      "_________________________________________________________________\n",
      "Layer (type)                 Output Shape              Param #   \n",
      "=================================================================\n",
      "conv2d_1 (Conv2D)            (None, 32, 32, 32)        16032     \n",
      "_________________________________________________________________\n",
      "batch_normalization_1 (Batch (None, 32, 32, 32)        128       \n",
      "_________________________________________________________________\n",
      "spatial_dropout2d_1 (Spatial (None, 32, 32, 32)        0         \n",
      "_________________________________________________________________\n",
      "max_pooling2d_1 (MaxPooling2 (None, 16, 16, 32)        0         \n",
      "_________________________________________________________________\n",
      "conv2d_2 (Conv2D)            (None, 16, 16, 48)        38448     \n",
      "_________________________________________________________________\n",
      "batch_normalization_2 (Batch (None, 16, 16, 48)        192       \n",
      "_________________________________________________________________\n",
      "spatial_dropout2d_2 (Spatial (None, 16, 16, 48)        0         \n",
      "_________________________________________________________________\n",
      "max_pooling2d_2 (MaxPooling2 (None, 8, 8, 48)          0         \n",
      "_________________________________________________________________\n",
      "conv2d_3 (Conv2D)            (None, 8, 8, 64)          76864     \n",
      "_________________________________________________________________\n",
      "batch_normalization_3 (Batch (None, 8, 8, 64)          256       \n",
      "_________________________________________________________________\n",
      "spatial_dropout2d_3 (Spatial (None, 8, 8, 64)          0         \n",
      "_________________________________________________________________\n",
      "max_pooling2d_3 (MaxPooling2 (None, 4, 4, 64)          0         \n",
      "_________________________________________________________________\n",
      "flatten_1 (Flatten)          (None, 1024)              0         \n",
      "_________________________________________________________________\n",
      "dense_1 (Dense)              (None, 32)                32800     \n",
      "_________________________________________________________________\n",
      "batch_normalization_4 (Batch (None, 32)                128       \n",
      "_________________________________________________________________\n",
      "dropout_1 (Dropout)          (None, 32)                0         \n",
      "_________________________________________________________________\n",
      "dense_2 (Dense)              (None, 1)                 33        \n",
      "=================================================================\n",
      "Total params: 164,881\n",
      "Trainable params: 164,529\n",
      "Non-trainable params: 352\n",
      "_________________________________________________________________\n",
      "None\n",
      "Training model...\n",
      "Train on 747284 samples, validate on 83032 samples\n",
      "Epoch 1/10\n",
      "747284/747284 [==============================] - 3423s 5ms/step - loss: 0.1326 - accuracy: 0.9386 - mean_squared_error: 0.0650 - mean_absolute_error: 0.1566 - val_loss: 0.0497 - val_accuracy: 0.9762 - val_mean_squared_error: 0.0215 - val_mean_absolute_error: 0.0484\n",
      "Epoch 2/10\n",
      "747284/747284 [==============================] - 3384s 5ms/step - loss: 0.0358 - accuracy: 0.9756 - mean_squared_error: 0.0217 - mean_absolute_error: 0.0466 - val_loss: 0.0241 - val_accuracy: 0.9781 - val_mean_squared_error: 0.0174 - val_mean_absolute_error: 0.0303\n",
      "Epoch 3/10\n",
      "747284/747284 [==============================] - 3368s 5ms/step - loss: 0.0218 - accuracy: 0.9796 - mean_squared_error: 0.0165 - mean_absolute_error: 0.0362 - val_loss: 0.0158 - val_accuracy: 0.9848 - val_mean_squared_error: 0.0117 - val_mean_absolute_error: 0.0214\n",
      "Epoch 4/10\n",
      "747284/747284 [==============================] - 3403s 5ms/step - loss: 0.0170 - accuracy: 0.9836 - mean_squared_error: 0.0131 - mean_absolute_error: 0.0290 - val_loss: 0.0159 - val_accuracy: 0.9854 - val_mean_squared_error: 0.0115 - val_mean_absolute_error: 0.0198\n",
      "Epoch 5/10\n",
      "747284/747284 [==============================] - 3369s 5ms/step - loss: 0.0162 - accuracy: 0.9849 - mean_squared_error: 0.0121 - mean_absolute_error: 0.0258 - val_loss: 0.0116 - val_accuracy: 0.9898 - val_mean_squared_error: 0.0081 - val_mean_absolute_error: 0.0147\n",
      "Epoch 6/10\n",
      "747284/747284 [==============================] - 3415s 5ms/step - loss: 0.0149 - accuracy: 0.9858 - mean_squared_error: 0.0114 - mean_absolute_error: 0.0241 - val_loss: 0.0124 - val_accuracy: 0.9882 - val_mean_squared_error: 0.0091 - val_mean_absolute_error: 0.0161\n",
      "Epoch 7/10\n",
      "747284/747284 [==============================] - 3450s 5ms/step - loss: 0.0145 - accuracy: 0.9862 - mean_squared_error: 0.0109 - mean_absolute_error: 0.0224 - val_loss: 0.0113 - val_accuracy: 0.9895 - val_mean_squared_error: 0.0081 - val_mean_absolute_error: 0.0143\n",
      "Epoch 8/10\n",
      "747284/747284 [==============================] - 3497s 5ms/step - loss: 0.0128 - accuracy: 0.9876 - mean_squared_error: 0.0098 - mean_absolute_error: 0.0205 - val_loss: 0.0102 - val_accuracy: 0.9904 - val_mean_squared_error: 0.0074 - val_mean_absolute_error: 0.0134\n",
      "Epoch 9/10\n",
      "747284/747284 [==============================] - 3432s 5ms/step - loss: 0.0121 - accuracy: 0.9883 - mean_squared_error: 0.0092 - mean_absolute_error: 0.0195 - val_loss: 0.0094 - val_accuracy: 0.9914 - val_mean_squared_error: 0.0067 - val_mean_absolute_error: 0.0127\n",
      "Epoch 10/10\n",
      "747284/747284 [==============================] - 3707s 5ms/step - loss: 0.0126 - accuracy: 0.9879 - mean_squared_error: 0.0096 - mean_absolute_error: 0.0198 - val_loss: 0.0143 - val_accuracy: 0.9862 - val_mean_squared_error: 0.0113 - val_mean_absolute_error: 0.0217\n"
     ]
    }
   ],
   "source": [
    "test = DLTraining(working_directory='/glade/scratch/molina/DL_proj/current_conus_fields/dl_models/', \n",
    "                  dlfile_directory='/glade/scratch/molina/DL_proj/current_conus_fields/dl_preprocess/', \n",
    "                  variables=np.array(['TK','EV','EU','QVAPOR','PRESS']), \n",
    "                  model_num=24, \n",
    "                  mask=False, mask_train=False, unbalanced=True, validation=False, retrain=False, retrain_model_num=None,\n",
    "                  climate='current', print_sequential=True,\n",
    "                  conv_1_mapnum=32, conv_2_mapnum=48, conv_3_mapnum=64,\n",
    "                  acti_1_func='relu', acti_2_func='relu', acti_3_func='relu',\n",
    "                  filter_width=5, learning_rate = 0.0001, output_func_and_loss='sigmoid_mse', strides_len=1,\n",
    "                  validation_split=0.1, batch_size=128, epochs=10, \n",
    "                  pool_method='max', batch_norm=True, spatial_drop=True, spatial_drop_perc=0.3,\n",
    "                  additional_dense=True, additional_dense_units=32, additional_dense_activation='relu'\n",
    "                 )\n",
    "test.sequence_funcs()"
   ]
  },
  {
   "cell_type": "code",
   "execution_count": 3,
   "metadata": {},
   "outputs": [
    {
     "name": "stdout",
     "output_type": "stream",
     "text": [
      "Opening files...\n",
      "Generating training data and labels...\n",
      "Removing nans...\n",
      "Open previously trained model...\n",
      "Retrain previously trained model...\n",
      "Train on 747284 samples, validate on 83032 samples\n",
      "Epoch 1/10\n",
      "747284/747284 [==============================] - 3858s 5ms/step - loss: 0.0118 - accuracy: 0.9887 - mean_squared_error: 0.0091 - mean_absolute_error: 0.0187 - val_loss: 0.0097 - val_accuracy: 0.9907 - val_mean_squared_error: 0.0073 - val_mean_absolute_error: 0.0130\n",
      "Epoch 2/10\n",
      "747284/747284 [==============================] - 3441s 5ms/step - loss: 0.0113 - accuracy: 0.9889 - mean_squared_error: 0.0088 - mean_absolute_error: 0.0180 - val_loss: 0.0103 - val_accuracy: 0.9901 - val_mean_squared_error: 0.0078 - val_mean_absolute_error: 0.0142\n",
      "Epoch 3/10\n",
      "747284/747284 [==============================] - 3436s 5ms/step - loss: 0.0114 - accuracy: 0.9890 - mean_squared_error: 0.0088 - mean_absolute_error: 0.0178 - val_loss: 0.0099 - val_accuracy: 0.9909 - val_mean_squared_error: 0.0070 - val_mean_absolute_error: 0.0125\n",
      "Epoch 4/10\n",
      "747284/747284 [==============================] - 3458s 5ms/step - loss: 0.0115 - accuracy: 0.9889 - mean_squared_error: 0.0088 - mean_absolute_error: 0.0176 - val_loss: 0.0091 - val_accuracy: 0.9911 - val_mean_squared_error: 0.0067 - val_mean_absolute_error: 0.0134\n",
      "Epoch 5/10\n",
      "747284/747284 [==============================] - 3448s 5ms/step - loss: 0.0106 - accuracy: 0.9896 - mean_squared_error: 0.0083 - mean_absolute_error: 0.0168 - val_loss: 0.0111 - val_accuracy: 0.9895 - val_mean_squared_error: 0.0082 - val_mean_absolute_error: 0.0132\n",
      "Epoch 6/10\n",
      "747284/747284 [==============================] - 3567s 5ms/step - loss: 0.0114 - accuracy: 0.9890 - mean_squared_error: 0.0088 - mean_absolute_error: 0.0173 - val_loss: 0.0100 - val_accuracy: 0.9908 - val_mean_squared_error: 0.0069 - val_mean_absolute_error: 0.0130\n",
      "Epoch 7/10\n",
      "747284/747284 [==============================] - 3465s 5ms/step - loss: 0.0108 - accuracy: 0.9897 - mean_squared_error: 0.0082 - mean_absolute_error: 0.0166 - val_loss: 0.0090 - val_accuracy: 0.9918 - val_mean_squared_error: 0.0064 - val_mean_absolute_error: 0.0134\n",
      "Epoch 8/10\n",
      "747284/747284 [==============================] - 3468s 5ms/step - loss: 0.0103 - accuracy: 0.9900 - mean_squared_error: 0.0079 - mean_absolute_error: 0.0160 - val_loss: 0.0084 - val_accuracy: 0.9917 - val_mean_squared_error: 0.0062 - val_mean_absolute_error: 0.0117\n",
      "Epoch 9/10\n",
      "747284/747284 [==============================] - 3551s 5ms/step - loss: 0.0095 - accuracy: 0.9907 - mean_squared_error: 0.0073 - mean_absolute_error: 0.0150 - val_loss: 0.0081 - val_accuracy: 0.9921 - val_mean_squared_error: 0.0060 - val_mean_absolute_error: 0.0116\n",
      "Epoch 10/10\n",
      "747284/747284 [==============================] - 3678s 5ms/step - loss: 0.0099 - accuracy: 0.9901 - mean_squared_error: 0.0077 - mean_absolute_error: 0.0156 - val_loss: 0.0088 - val_accuracy: 0.9913 - val_mean_squared_error: 0.0066 - val_mean_absolute_error: 0.0142\n"
     ]
    }
   ],
   "source": [
    "test = DLTraining(working_directory='/glade/scratch/molina/DL_proj/current_conus_fields/dl_models/', \n",
    "                  dlfile_directory='/glade/scratch/molina/DL_proj/current_conus_fields/dl_preprocess/', \n",
    "                  variables=np.array(['TK','EV','EU','QVAPOR','PRESS']), \n",
    "                  model_num=24, \n",
    "                  mask=False, mask_train=False, unbalanced=True, validation=False, retrain=True, retrain_model_num=25,\n",
    "                  climate='current', print_sequential=True,\n",
    "                  conv_1_mapnum=32, conv_2_mapnum=48, conv_3_mapnum=64,\n",
    "                  acti_1_func='relu', acti_2_func='relu', acti_3_func='relu',\n",
    "                  filter_width=5, learning_rate = 0.0001, output_func_and_loss='sigmoid_mse', strides_len=1,\n",
    "                  validation_split=0.1, batch_size=128, epochs=10, \n",
    "                  pool_method='max', batch_norm=True, spatial_drop=True, spatial_drop_perc=0.3,\n",
    "                  additional_dense=True, additional_dense_units=32, additional_dense_activation='relu'\n",
    "                 )\n",
    "test.retrain_dl()"
   ]
  },
  {
   "cell_type": "code",
   "execution_count": null,
   "metadata": {},
   "outputs": [],
   "source": []
  }
 ],
 "metadata": {
  "kernelspec": {
   "display_name": "Python [conda env:python-tutorial]",
   "language": "python",
   "name": "conda-env-python-tutorial-py"
  },
  "language_info": {
   "codemirror_mode": {
    "name": "ipython",
    "version": 3
   },
   "file_extension": ".py",
   "mimetype": "text/x-python",
   "name": "python",
   "nbconvert_exporter": "python",
   "pygments_lexer": "ipython3",
   "version": "3.7.3"
  }
 },
 "nbformat": 4,
 "nbformat_minor": 4
}
