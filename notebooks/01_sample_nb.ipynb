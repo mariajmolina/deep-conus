{
 "cells": [
  {
   "cell_type": "markdown",
   "metadata": {},
   "source": [
    "## Sample Script for the creation of variables using ``01_variable_creator`` module\n",
    "Import the module."
   ]
  },
  {
   "cell_type": "code",
   "execution_count": 2,
   "metadata": {},
   "outputs": [],
   "source": [
    "exec(open('/glade/u/home/molina/python_scripts/deep-conus/deep-conus/01_variable_creator.py').read())"
   ]
  },
  {
   "cell_type": "code",
   "execution_count": 3,
   "metadata": {},
   "outputs": [],
   "source": [
    "# import project_code from config file (keeping private from public repo)\n",
    "from config import project_code"
   ]
  },
  {
   "cell_type": "markdown",
   "metadata": {},
   "source": [
    "Create the ComputeVariable object using ``ComputeVariable`` class.\n",
    "\n",
    "Example below creates the ``UH`` (updraft helicity; 0-3-km AGL) variable for November 2000 for the current climate period."
   ]
  },
  {
   "cell_type": "code",
   "execution_count": 4,
   "metadata": {},
   "outputs": [],
   "source": [
    "test = ComputeVariable(climate='current', \n",
    "                       variable='UH', \n",
    "                       month_start=11, month_end=12, year_start=2009, year_end=2009, \n",
    "                       destination='/glade/scratch/molina/DL_proj/current_conus_fields/UH03/', \n",
    "                       start_dask=True, project_code=project_code,\n",
    "                       uh_bottom=0.0, uh_top=3000.0)"
   ]
  },
  {
   "cell_type": "markdown",
   "metadata": {},
   "source": [
    "``create_the_variable_files()`` generates the UH files and saves them to the ``destination`` path provided."
   ]
  },
  {
   "cell_type": "code",
   "execution_count": 5,
   "metadata": {},
   "outputs": [],
   "source": [
    "# test.create_the_variable_files()"
   ]
  },
  {
   "cell_type": "code",
   "execution_count": null,
   "metadata": {},
   "outputs": [],
   "source": []
  }
 ],
 "metadata": {
  "kernelspec": {
   "display_name": "Python [conda env:miniconda3-python-tutorial]",
   "language": "python",
   "name": "conda-env-miniconda3-python-tutorial-python3_myenv"
  },
  "language_info": {
   "codemirror_mode": {
    "name": "ipython",
    "version": 3
   },
   "file_extension": ".py",
   "mimetype": "text/x-python",
   "name": "python",
   "nbconvert_exporter": "python",
   "pygments_lexer": "ipython3",
   "version": "3.7.3"
  }
 },
 "nbformat": 4,
 "nbformat_minor": 4
}
