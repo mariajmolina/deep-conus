{
 "cells": [
  {
   "cell_type": "markdown",
   "metadata": {},
   "source": [
    "## Sample Script for the preprocessing of storm patch data using ``04_dldata_preprocessor`` module\n",
    "\n",
    "Import the module."
   ]
  },
  {
   "cell_type": "code",
   "execution_count": 1,
   "metadata": {},
   "outputs": [],
   "source": [
    "exec(open('/glade/u/home/molina/python_scripts/deep-conus/deep-conus/04_dldata_preprocessor.py').read())"
   ]
  },
  {
   "cell_type": "markdown",
   "metadata": {},
   "source": [
    "Here, we will create the ``PreprocessData`` object. This example extracts the storm patches for the ``future`` climate simulation using 75 m2/s2 as the updraft helicity threshold."
   ]
  },
  {
   "cell_type": "code",
   "execution_count": 3,
   "metadata": {},
   "outputs": [],
   "source": [
    "which_climate='future'\n",
    "\n",
    "test = PreprocessData(working_directory=f'/glade/scratch/molina/DL_proj/{which_climate}_conus_fields/dl_preprocess/', \n",
    "                      stormpatch_path=f'/glade/scratch/molina/DL_proj/{which_climate}_conus_fields/STORM_PATCHES/', \n",
    "                      climate=f'{which_climate}', \n",
    "                      threshold1=75, \n",
    "                      mask=False, \n",
    "                      num_cpus=36)"
   ]
  },
  {
   "cell_type": "markdown",
   "metadata": {},
   "source": [
    "Indices for the storm patches that exceed the delineated threshold are first extracted."
   ]
  },
  {
   "cell_type": "code",
   "execution_count": 4,
   "metadata": {
    "tags": []
   },
   "outputs": [],
   "source": [
    "#test.parallelizing_indxs()"
   ]
  },
  {
   "cell_type": "markdown",
   "metadata": {},
   "source": [
    "Then, finally, the indices are used to create the patches of exceedances and non-exceedances with files saved for all variables."
   ]
  },
  {
   "cell_type": "code",
   "execution_count": 5,
   "metadata": {
    "tags": []
   },
   "outputs": [],
   "source": [
    "#test.run_months()"
   ]
  },
  {
   "cell_type": "markdown",
   "metadata": {},
   "source": [
    "Sometimes, issues arise with the parallelization in ``run_months``. One way to avoid it is to loop through months manually as follows:"
   ]
  },
  {
   "cell_type": "code",
   "execution_count": 7,
   "metadata": {
    "tags": []
   },
   "outputs": [],
   "source": [
    "#for mo in np.array([1,3,5]):\n",
    "    #test.create_files_exceed_threshold(mo)"
   ]
  },
  {
   "cell_type": "code",
   "execution_count": 8,
   "metadata": {
    "tags": []
   },
   "outputs": [],
   "source": [
    "#for mo in np.array([1,3,5]):\n",
    "    #test.create_files_notexceed_threshold(mo)"
   ]
  },
  {
   "cell_type": "code",
   "execution_count": null,
   "metadata": {},
   "outputs": [],
   "source": []
  }
 ],
 "metadata": {
  "kernelspec": {
   "display_name": "Python [conda env:miniconda3-python-tutorial]",
   "language": "python",
   "name": "conda-env-miniconda3-python-tutorial-python3_myenv"
  },
  "language_info": {
   "codemirror_mode": {
    "name": "ipython",
    "version": 3
   },
   "file_extension": ".py",
   "mimetype": "text/x-python",
   "name": "python",
   "nbconvert_exporter": "python",
   "pygments_lexer": "ipython3",
   "version": "3.7.3"
  }
 },
 "nbformat": 4,
 "nbformat_minor": 4
}
