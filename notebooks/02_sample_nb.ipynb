{
 "cells": [
  {
   "cell_type": "markdown",
   "metadata": {},
   "source": [
    "## Sample Script for the interpolation of variables using ``02_variable_interpolator`` module\n",
    "\n",
    "Import the module."
   ]
  },
  {
   "cell_type": "code",
   "execution_count": 1,
   "metadata": {},
   "outputs": [],
   "source": [
    "exec(open('/glade/u/home/molina/python_scripts/deep-conus/deep-conus/02_variable_interpolator.py').read())"
   ]
  },
  {
   "cell_type": "code",
   "execution_count": 2,
   "metadata": {},
   "outputs": [],
   "source": [
    "# import project_code from config file (keeping private from public repo)\n",
    "from config import project_code"
   ]
  },
  {
   "cell_type": "markdown",
   "metadata": {},
   "source": [
    "Create the InterpolateVariable object using ``InterpolateVariable`` class.\n",
    "\n",
    "Example below interpolates the ``TK`` (air temperature) variable on 1, 3, 5, and 7-km above ground level (AGL) height for November 2000 for the current climate period."
   ]
  },
  {
   "cell_type": "code",
   "execution_count": 3,
   "metadata": {},
   "outputs": [],
   "source": [
    "test = InterpolateVariable(climate='current', \n",
    "                           variable='TK',\n",
    "                           month_start=11, month_end=12, year_start=2000, year_end=2000, \n",
    "                           destination='/glade/scratch/molina/DL_proj/current_conus_fields/TK/', \n",
    "                           start_dask=True, \n",
    "                           project_code=project_code,\n",
    "                           cluster_min=5, cluster_max=40)"
   ]
  },
  {
   "cell_type": "markdown",
   "metadata": {},
   "source": [
    "``create_the_interp_files()`` generates the TK files on 1, 3, 5, and 7-km AGL and saves them to the destination path provided. Make sure it is for the correct folder!"
   ]
  },
  {
   "cell_type": "code",
   "execution_count": 4,
   "metadata": {},
   "outputs": [],
   "source": [
    "#test.create_the_interp_files()"
   ]
  },
  {
   "cell_type": "markdown",
   "metadata": {},
   "source": [
    "\n",
    "\n",
    "The maximum vertical velocity data can also be created with ``02_variable_interpolator``. \n",
    "\n",
    "``create_the_max_files()`` generates the maximum vertical wind velocity (``w``) data and saves them to the destination path provided. \n",
    "\n",
    "Make sure it saved in the correct folder!"
   ]
  },
  {
   "cell_type": "code",
   "execution_count": 5,
   "metadata": {},
   "outputs": [],
   "source": [
    "test = InterpolateVariable(climate='future', \n",
    "                           variable='MAXW',\n",
    "                           month_start=10, month_end=13, year_start=2000, year_end=2000, \n",
    "                           destination='/glade/scratch/molina/DL_proj/future_conus_fields/W_vert/', \n",
    "                           start_dask=False)\n",
    "\n",
    "#test.create_the_max_files()"
   ]
  },
  {
   "cell_type": "code",
   "execution_count": null,
   "metadata": {},
   "outputs": [],
   "source": []
  }
 ],
 "metadata": {
  "kernelspec": {
   "display_name": "Python [conda env:miniconda3-python-tutorial]",
   "language": "python",
   "name": "conda-env-miniconda3-python-tutorial-py"
  },
  "language_info": {
   "codemirror_mode": {
    "name": "ipython",
    "version": 3
   },
   "file_extension": ".py",
   "mimetype": "text/x-python",
   "name": "python",
   "nbconvert_exporter": "python",
   "pygments_lexer": "ipython3",
   "version": "3.7.3"
  }
 },
 "nbformat": 4,
 "nbformat_minor": 4
}
