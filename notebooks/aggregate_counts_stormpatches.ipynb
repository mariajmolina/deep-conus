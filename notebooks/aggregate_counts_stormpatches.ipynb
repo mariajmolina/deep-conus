{
 "cells": [
  {
   "cell_type": "markdown",
   "metadata": {},
   "source": [
    "# Aggregate of Convection Frequencies as Derived from Storm Patches\n",
    "\n",
    "### Basic statistics for comparison to previous research environmental heuristics (e.g., increases in CAPE > 1,200 J/kg).\n",
    "\n",
    "Import relevant packages."
   ]
  },
  {
   "cell_type": "code",
   "execution_count": 1,
   "metadata": {},
   "outputs": [],
   "source": [
    "import numpy as np\n",
    "import xarray as xr\n",
    "import pandas as pd"
   ]
  },
  {
   "cell_type": "markdown",
   "metadata": {},
   "source": [
    "Open data sets in a loop to allow for selection of certain months of interest."
   ]
  },
  {
   "cell_type": "code",
   "execution_count": 4,
   "metadata": {},
   "outputs": [],
   "source": [
    "time_array = pd.date_range('2000-10-01','2013-09-30',freq='MS')[(pd.date_range('2000-10-01','2013-09-30',freq='MS').month==12)|\n",
    "                                                                (pd.date_range('2000-10-01','2013-09-30',freq='MS').month==1)|\n",
    "                                                                (pd.date_range('2000-10-01','2013-09-30',freq='MS').month==2)|\n",
    "                                                                (pd.date_range('2000-10-01','2013-09-30',freq='MS').month==3)|\n",
    "                                                                (pd.date_range('2000-10-01','2013-09-30',freq='MS').month==4)|\n",
    "                                                                (pd.date_range('2000-10-01','2013-09-30',freq='MS').month==5)]\n",
    "\n",
    "frequency_current = {}\n",
    "frequency_future = {}\n",
    "\n",
    "for time in time_array:\n",
    "    frequency_current[f\"{time.strftime('%Y')}_{time.strftime('%m')}\"] = \\\n",
    "        xr.open_mfdataset(f\"/glade/scratch/molina/WRF_CONUS1_derived/storm_envs/current_conus1_{time.strftime('%Y')}{time.strftime('%m')}*.nc\",\n",
    "            combine='by_coords').starttime.shape[0]\n",
    "    frequency_future[f\"{time.strftime('%Y')}_{time.strftime('%m')}\"] = \\\n",
    "        xr.open_mfdataset(f\"/glade/scratch/molina/WRF_CONUS1_derived/storm_envs/future_conus1_{time.strftime('%Y')}{time.strftime('%m')}*.nc\",\n",
    "            combine='by_coords').starttime.shape[0]"
   ]
  },
  {
   "cell_type": "markdown",
   "metadata": {},
   "source": [
    "TOTAL STORM PATCHES: Compute frequencies of storm patches during current climate. These are total storm patches, which were selected using the Watershed method (dbz > 40)."
   ]
  },
  {
   "cell_type": "code",
   "execution_count": 6,
   "metadata": {},
   "outputs": [
    {
     "name": "stdout",
     "output_type": "stream",
     "text": [
      "Current Climate\n",
      "Dec: 142997\n",
      "Jan: 114037\n",
      "Feb: 140265\n",
      "Mar: 252304\n",
      "Apr: 308044\n",
      "May: 429841\n"
     ]
    }
   ],
   "source": [
    "print(\"Current Climate\")\n",
    "print(\"Dec:\",\n",
    "      np.sum(np.array([np.array([key for (key,val) in frequency_current.items()]),\n",
    "                 np.array([val for (key,val) in frequency_current.items()])])[1,::6].astype(np.int)))\n",
    "print(\"Jan:\",\n",
    "      np.sum(np.array([np.array([key for (key,val) in frequency_current.items()]),\n",
    "                 np.array([val for (key,val) in frequency_current.items()])])[1,1::6].astype(np.int)))\n",
    "print(\"Feb:\",\n",
    "      np.sum(np.array([np.array([key for (key,val) in frequency_current.items()]),\n",
    "                 np.array([val for (key,val) in frequency_current.items()])])[1,2::6].astype(np.int)))\n",
    "print(\"Mar:\",\n",
    "      np.sum(np.array([np.array([key for (key,val) in frequency_current.items()]),\n",
    "                 np.array([val for (key,val) in frequency_current.items()])])[1,3::6].astype(np.int)))\n",
    "print(\"Apr:\",\n",
    "      np.sum(np.array([np.array([key for (key,val) in frequency_current.items()]),\n",
    "                 np.array([val for (key,val) in frequency_current.items()])])[1,4::6].astype(np.int)))\n",
    "print(\"May:\",\n",
    "      np.sum(np.array([np.array([key for (key,val) in frequency_current.items()]),\n",
    "                 np.array([val for (key,val) in frequency_current.items()])])[1,5::6].astype(np.int)))"
   ]
  },
  {
   "cell_type": "markdown",
   "metadata": {},
   "source": [
    "Compute frequencies of storm patches during future climate. These are total storm patches, which were selected using the Watershed method (dbz > 40)."
   ]
  },
  {
   "cell_type": "code",
   "execution_count": 7,
   "metadata": {},
   "outputs": [
    {
     "name": "stdout",
     "output_type": "stream",
     "text": [
      "Future Climate\n",
      "Dec: 172020\n",
      "Jan: 134591\n",
      "Feb: 163769\n",
      "Mar: 275516\n",
      "Apr: 302768\n",
      "May: 371264\n"
     ]
    }
   ],
   "source": [
    "print(\"Future Climate\")\n",
    "print(\"Dec:\",\n",
    "      np.sum(np.array([np.array([key for (key,val) in frequency_future.items()]),\n",
    "                 np.array([val for (key,val) in frequency_future.items()])])[1,::6].astype(np.int)))\n",
    "print(\"Jan:\",\n",
    "      np.sum(np.array([np.array([key for (key,val) in frequency_future.items()]),\n",
    "                 np.array([val for (key,val) in frequency_future.items()])])[1,1::6].astype(np.int)))\n",
    "print(\"Feb:\",\n",
    "      np.sum(np.array([np.array([key for (key,val) in frequency_future.items()]),\n",
    "                 np.array([val for (key,val) in frequency_future.items()])])[1,2::6].astype(np.int)))\n",
    "print(\"Mar:\",\n",
    "      np.sum(np.array([np.array([key for (key,val) in frequency_future.items()]),\n",
    "                 np.array([val for (key,val) in frequency_future.items()])])[1,3::6].astype(np.int)))\n",
    "print(\"Apr:\",\n",
    "      np.sum(np.array([np.array([key for (key,val) in frequency_future.items()]),\n",
    "                 np.array([val for (key,val) in frequency_future.items()])])[1,4::6].astype(np.int)))\n",
    "print(\"May:\",\n",
    "      np.sum(np.array([np.array([key for (key,val) in frequency_future.items()]),\n",
    "                 np.array([val for (key,val) in frequency_future.items()])])[1,5::6].astype(np.int)))"
   ]
  },
  {
   "cell_type": "markdown",
   "metadata": {},
   "source": [
    "Compute difference in frequencies of storm patches during future climate from current climate (e.g., future-current). \n",
    "These are total storm patches, which were selected using the Watershed method (dbz > 40)."
   ]
  },
  {
   "cell_type": "code",
   "execution_count": 8,
   "metadata": {},
   "outputs": [
    {
     "name": "stdout",
     "output_type": "stream",
     "text": [
      "Future-Current Climates\n",
      "Dec: 29023\n",
      "Jan: 20554\n",
      "Feb: 23504\n",
      "Mar: 23212\n",
      "Apr: -5276\n",
      "May: -58577\n"
     ]
    }
   ],
   "source": [
    "print(\"Future-Current Climates\")\n",
    "print(\"Dec:\",\n",
    "      np.sum(np.array([np.array([key for (key,val) in frequency_future.items()]),\n",
    "                 np.array([val for (key,val) in frequency_future.items()])])[1,::6].astype(np.int))-\\\n",
    "      np.sum(np.array([np.array([key for (key,val) in frequency_current.items()]),\n",
    "                 np.array([val for (key,val) in frequency_current.items()])])[1,::6].astype(np.int))\n",
    "     )\n",
    "\n",
    "print(\"Jan:\",\n",
    "      np.sum(np.array([np.array([key for (key,val) in frequency_future.items()]),\n",
    "                 np.array([val for (key,val) in frequency_future.items()])])[1,1::6].astype(np.int))-\\\n",
    "      np.sum(np.array([np.array([key for (key,val) in frequency_current.items()]),\n",
    "                 np.array([val for (key,val) in frequency_current.items()])])[1,1::6].astype(np.int))\n",
    "     )\n",
    "\n",
    "print(\"Feb:\",\n",
    "      np.sum(np.array([np.array([key for (key,val) in frequency_future.items()]),\n",
    "                 np.array([val for (key,val) in frequency_future.items()])])[1,2::6].astype(np.int))-\\\n",
    "      np.sum(np.array([np.array([key for (key,val) in frequency_current.items()]),\n",
    "                 np.array([val for (key,val) in frequency_current.items()])])[1,2::6].astype(np.int))\n",
    "     )\n",
    "\n",
    "print(\"Mar:\",\n",
    "      np.sum(np.array([np.array([key for (key,val) in frequency_future.items()]),\n",
    "                 np.array([val for (key,val) in frequency_future.items()])])[1,3::6].astype(np.int))-\\\n",
    "      np.sum(np.array([np.array([key for (key,val) in frequency_current.items()]),\n",
    "                 np.array([val for (key,val) in frequency_current.items()])])[1,3::6].astype(np.int))\n",
    "     )\n",
    "\n",
    "print(\"Apr:\",\n",
    "      np.sum(np.array([np.array([key for (key,val) in frequency_future.items()]),\n",
    "                 np.array([val for (key,val) in frequency_future.items()])])[1,4::6].astype(np.int))-\\\n",
    "      np.sum(np.array([np.array([key for (key,val) in frequency_current.items()]),\n",
    "                 np.array([val for (key,val) in frequency_current.items()])])[1,4::6].astype(np.int))\n",
    "     )\n",
    "\n",
    "print(\"May:\",\n",
    "      np.sum(np.array([np.array([key for (key,val) in frequency_future.items()]),\n",
    "                 np.array([val for (key,val) in frequency_future.items()])])[1,5::6].astype(np.int))-\\\n",
    "      np.sum(np.array([np.array([key for (key,val) in frequency_current.items()]),\n",
    "                 np.array([val for (key,val) in frequency_current.items()])])[1,5::6].astype(np.int))\n",
    "     )"
   ]
  },
  {
   "cell_type": "markdown",
   "metadata": {},
   "source": [
    "UH>75 STORM PATCHES: Open storm patch data sets with filtering by month using a for loop."
   ]
  },
  {
   "cell_type": "code",
   "execution_count": 9,
   "metadata": {},
   "outputs": [],
   "source": [
    "time_array = pd.date_range('2000-10-01','2013-09-30',freq='MS')[(pd.date_range('2000-10-01','2013-09-30',freq='MS').month==12)|\n",
    "                                                                (pd.date_range('2000-10-01','2013-09-30',freq='MS').month==1)|\n",
    "                                                                (pd.date_range('2000-10-01','2013-09-30',freq='MS').month==2)|\n",
    "                                                                (pd.date_range('2000-10-01','2013-09-30',freq='MS').month==3)|\n",
    "                                                                (pd.date_range('2000-10-01','2013-09-30',freq='MS').month==4)|\n",
    "                                                                (pd.date_range('2000-10-01','2013-09-30',freq='MS').month==5)]\n",
    "\n",
    "frequency_sevcurrent = {}\n",
    "frequency_sevfuture = {}\n",
    "\n",
    "for time in time_array[:]:\n",
    "    \n",
    "    data_uhct1 = \\\n",
    "        xr.open_mfdataset(f\"/glade/scratch/molina/WRF_CONUS1_derived/storm_envs/current_conus1_{time.strftime('%Y')}{time.strftime('%m')}*.nc\",\n",
    "                          combine='by_coords')    \n",
    "    frequency_sevcurrent[f\"{time.strftime('%Y')}_{time.strftime('%m')}\"] = \\\n",
    "        data_uhct1.uh_grid.values.max(axis=(1,2))[(data_uhct1.uh_grid.values.max(axis=(1,2))>75)].shape[0]\n",
    "    \n",
    "    data_uhct2 = \\\n",
    "        xr.open_mfdataset(f\"/glade/scratch/molina/WRF_CONUS1_derived/storm_envs/future_conus1_{time.strftime('%Y')}{time.strftime('%m')}*.nc\",\n",
    "                          combine='by_coords')    \n",
    "    frequency_sevfuture[f\"{time.strftime('%Y')}_{time.strftime('%m')}\"] = \\\n",
    "        data_uhct2.uh_grid.values.max(axis=(1,2))[(data_uhct2.uh_grid.values.max(axis=(1,2))>75)].shape[0]"
   ]
  },
  {
   "cell_type": "markdown",
   "metadata": {},
   "source": [
    "Compute frequencies of storm patches during current climate that are strongly rotating (UH > 75 m2/s2). \n",
    "These are total storm patches, which were selected using the Watershed method (dbz > 40)."
   ]
  },
  {
   "cell_type": "code",
   "execution_count": 10,
   "metadata": {},
   "outputs": [
    {
     "name": "stdout",
     "output_type": "stream",
     "text": [
      "Current Climate\n",
      "Dec: 543\n",
      "Jan: 407\n",
      "Feb: 1080\n",
      "Mar: 4863\n",
      "Apr: 10473\n",
      "May: 15918\n"
     ]
    }
   ],
   "source": [
    "print(\"Current Climate\")\n",
    "print(\"Dec:\",\n",
    "      np.sum(np.array([np.array([key for (key,val) in frequency_sevcurrent.items()]),\n",
    "                 np.array([val for (key,val) in frequency_sevcurrent.items()])])[1,::6].astype(np.int)))\n",
    "print(\"Jan:\",\n",
    "      np.sum(np.array([np.array([key for (key,val) in frequency_sevcurrent.items()]),\n",
    "                 np.array([val for (key,val) in frequency_sevcurrent.items()])])[1,1::6].astype(np.int)))\n",
    "print(\"Feb:\",\n",
    "      np.sum(np.array([np.array([key for (key,val) in frequency_sevcurrent.items()]),\n",
    "                 np.array([val for (key,val) in frequency_sevcurrent.items()])])[1,2::6].astype(np.int)))\n",
    "print(\"Mar:\",\n",
    "      np.sum(np.array([np.array([key for (key,val) in frequency_sevcurrent.items()]),\n",
    "                 np.array([val for (key,val) in frequency_sevcurrent.items()])])[1,3::6].astype(np.int)))\n",
    "print(\"Apr:\",\n",
    "      np.sum(np.array([np.array([key for (key,val) in frequency_sevcurrent.items()]),\n",
    "                 np.array([val for (key,val) in frequency_sevcurrent.items()])])[1,4::6].astype(np.int)))\n",
    "print(\"May:\",\n",
    "      np.sum(np.array([np.array([key for (key,val) in frequency_sevcurrent.items()]),\n",
    "                 np.array([val for (key,val) in frequency_sevcurrent.items()])])[1,5::6].astype(np.int)))"
   ]
  },
  {
   "cell_type": "markdown",
   "metadata": {},
   "source": [
    "Compute frequencies of storm patches during future climate that are strongly rotating (UH > 75 m2/s2). \n",
    "These are total storm patches, which were selected using the Watershed method (dbz > 40)."
   ]
  },
  {
   "cell_type": "code",
   "execution_count": 11,
   "metadata": {},
   "outputs": [
    {
     "name": "stdout",
     "output_type": "stream",
     "text": [
      "Future Climate\n",
      "Dec: 920\n",
      "Jan: 867\n",
      "Feb: 2013\n",
      "Mar: 6759\n",
      "Apr: 13043\n",
      "May: 16151\n"
     ]
    }
   ],
   "source": [
    "print(\"Future Climate\")\n",
    "print(\"Dec:\",\n",
    "      np.sum(np.array([np.array([key for (key,val) in frequency_sevfuture.items()]),\n",
    "                 np.array([val for (key,val) in frequency_sevfuture.items()])])[1,::6].astype(np.int)))\n",
    "print(\"Jan:\",\n",
    "      np.sum(np.array([np.array([key for (key,val) in frequency_sevfuture.items()]),\n",
    "                 np.array([val for (key,val) in frequency_sevfuture.items()])])[1,1::6].astype(np.int)))\n",
    "print(\"Feb:\",\n",
    "      np.sum(np.array([np.array([key for (key,val) in frequency_sevfuture.items()]),\n",
    "                 np.array([val for (key,val) in frequency_sevfuture.items()])])[1,2::6].astype(np.int)))\n",
    "print(\"Mar:\",\n",
    "      np.sum(np.array([np.array([key for (key,val) in frequency_sevfuture.items()]),\n",
    "                 np.array([val for (key,val) in frequency_sevfuture.items()])])[1,3::6].astype(np.int)))\n",
    "print(\"Apr:\",\n",
    "      np.sum(np.array([np.array([key for (key,val) in frequency_sevfuture.items()]),\n",
    "                 np.array([val for (key,val) in frequency_sevfuture.items()])])[1,4::6].astype(np.int)))\n",
    "print(\"May:\",\n",
    "      np.sum(np.array([np.array([key for (key,val) in frequency_sevfuture.items()]),\n",
    "                 np.array([val for (key,val) in frequency_sevfuture.items()])])[1,5::6].astype(np.int)))"
   ]
  },
  {
   "cell_type": "markdown",
   "metadata": {},
   "source": [
    "Compute difference in frequencies of storm patches that are strongly rotating (UH > 75 m2/s2) during future climate minus current climate (e.g., future-current). \n",
    "These are total storm patches, which were selected using the Watershed method (dbz > 40)."
   ]
  },
  {
   "cell_type": "code",
   "execution_count": 12,
   "metadata": {},
   "outputs": [
    {
     "name": "stdout",
     "output_type": "stream",
     "text": [
      "Future-Current Climates\n",
      "Dec: 377\n",
      "Jan: 460\n",
      "Feb: 933\n",
      "Mar: 1896\n",
      "Apr: 2570\n",
      "May: 233\n"
     ]
    }
   ],
   "source": [
    "print(\"Future-Current Climates\")\n",
    "print(\"Dec:\",\n",
    "      np.sum(np.array([np.array([key for (key,val) in frequency_sevfuture.items()]),\n",
    "                 np.array([val for (key,val) in frequency_sevfuture.items()])])[1,::6].astype(np.int))-\\\n",
    "      np.sum(np.array([np.array([key for (key,val) in frequency_sevcurrent.items()]),\n",
    "                 np.array([val for (key,val) in frequency_sevcurrent.items()])])[1,::6].astype(np.int))\n",
    "     )\n",
    "\n",
    "print(\"Jan:\",\n",
    "      np.sum(np.array([np.array([key for (key,val) in frequency_sevfuture.items()]),\n",
    "                 np.array([val for (key,val) in frequency_sevfuture.items()])])[1,1::6].astype(np.int))-\\\n",
    "      np.sum(np.array([np.array([key for (key,val) in frequency_sevcurrent.items()]),\n",
    "                 np.array([val for (key,val) in frequency_sevcurrent.items()])])[1,1::6].astype(np.int))\n",
    "     )\n",
    "\n",
    "print(\"Feb:\",\n",
    "      np.sum(np.array([np.array([key for (key,val) in frequency_sevfuture.items()]),\n",
    "                 np.array([val for (key,val) in frequency_sevfuture.items()])])[1,2::6].astype(np.int))-\\\n",
    "      np.sum(np.array([np.array([key for (key,val) in frequency_sevcurrent.items()]),\n",
    "                 np.array([val for (key,val) in frequency_sevcurrent.items()])])[1,2::6].astype(np.int))\n",
    "     )\n",
    "\n",
    "print(\"Mar:\",\n",
    "      np.sum(np.array([np.array([key for (key,val) in frequency_sevfuture.items()]),\n",
    "                 np.array([val for (key,val) in frequency_sevfuture.items()])])[1,3::6].astype(np.int))-\\\n",
    "      np.sum(np.array([np.array([key for (key,val) in frequency_sevcurrent.items()]),\n",
    "                 np.array([val for (key,val) in frequency_sevcurrent.items()])])[1,3::6].astype(np.int))\n",
    "     )\n",
    "\n",
    "print(\"Apr:\",\n",
    "      np.sum(np.array([np.array([key for (key,val) in frequency_sevfuture.items()]),\n",
    "                 np.array([val for (key,val) in frequency_sevfuture.items()])])[1,4::6].astype(np.int))-\\\n",
    "      np.sum(np.array([np.array([key for (key,val) in frequency_sevcurrent.items()]),\n",
    "                 np.array([val for (key,val) in frequency_sevcurrent.items()])])[1,4::6].astype(np.int))\n",
    "     )\n",
    "\n",
    "print(\"May:\",\n",
    "      np.sum(np.array([np.array([key for (key,val) in frequency_sevfuture.items()]),\n",
    "                 np.array([val for (key,val) in frequency_sevfuture.items()])])[1,5::6].astype(np.int))-\\\n",
    "      np.sum(np.array([np.array([key for (key,val) in frequency_sevcurrent.items()]),\n",
    "                 np.array([val for (key,val) in frequency_sevcurrent.items()])])[1,5::6].astype(np.int))\n",
    "     )"
   ]
  },
  {
   "cell_type": "markdown",
   "metadata": {},
   "source": [
    "UH>60 STORM PATCHES: Open storm patch data sets with filtering by month using a for loop."
   ]
  },
  {
   "cell_type": "code",
   "execution_count": 13,
   "metadata": {},
   "outputs": [],
   "source": [
    "time_array = pd.date_range('2000-10-01','2013-09-30',freq='MS')[(pd.date_range('2000-10-01','2013-09-30',freq='MS').month==12)|\n",
    "                                                                (pd.date_range('2000-10-01','2013-09-30',freq='MS').month==1)|\n",
    "                                                                (pd.date_range('2000-10-01','2013-09-30',freq='MS').month==2)|\n",
    "                                                                (pd.date_range('2000-10-01','2013-09-30',freq='MS').month==3)|\n",
    "                                                                (pd.date_range('2000-10-01','2013-09-30',freq='MS').month==4)|\n",
    "                                                                (pd.date_range('2000-10-01','2013-09-30',freq='MS').month==5)]\n",
    "\n",
    "frequency_sevcurrent = {}\n",
    "frequency_sevfuture = {}\n",
    "\n",
    "for time in time_array[:]:\n",
    "    \n",
    "    data_uhct1 = \\\n",
    "        xr.open_mfdataset(f\"/glade/scratch/molina/WRF_CONUS1_derived/storm_envs/current_conus1_{time.strftime('%Y')}{time.strftime('%m')}*.nc\",\n",
    "                          combine='by_coords')    \n",
    "    frequency_sevcurrent[f\"{time.strftime('%Y')}_{time.strftime('%m')}\"] = \\\n",
    "        data_uhct1.uh_grid.values.max(axis=(1,2))[(data_uhct1.uh_grid.values.max(axis=(1,2))>60)].shape[0]\n",
    "    \n",
    "    data_uhct2 = \\\n",
    "        xr.open_mfdataset(f\"/glade/scratch/molina/WRF_CONUS1_derived/storm_envs/future_conus1_{time.strftime('%Y')}{time.strftime('%m')}*.nc\",\n",
    "                          combine='by_coords')    \n",
    "    frequency_sevfuture[f\"{time.strftime('%Y')}_{time.strftime('%m')}\"] = \\\n",
    "        data_uhct2.uh_grid.values.max(axis=(1,2))[(data_uhct2.uh_grid.values.max(axis=(1,2))>60)].shape[0]"
   ]
  },
  {
   "cell_type": "markdown",
   "metadata": {},
   "source": [
    "Compute frequencies of storm patches during current climate that are rotating (UH > 60 m2/s2). \n",
    "These are total storm patches, which were selected using the Watershed method (dbz > 40)."
   ]
  },
  {
   "cell_type": "code",
   "execution_count": 14,
   "metadata": {},
   "outputs": [
    {
     "name": "stdout",
     "output_type": "stream",
     "text": [
      "Current Climate\n",
      "Dec: 1030\n",
      "Jan: 741\n",
      "Feb: 1968\n",
      "Mar: 7466\n",
      "Apr: 15477\n",
      "May: 23474\n"
     ]
    }
   ],
   "source": [
    "print(\"Current Climate\")\n",
    "print(\"Dec:\",\n",
    "      np.sum(np.array([np.array([key for (key,val) in frequency_sevcurrent.items()]),\n",
    "                 np.array([val for (key,val) in frequency_sevcurrent.items()])])[1,::6].astype(np.int)))\n",
    "print(\"Jan:\",\n",
    "      np.sum(np.array([np.array([key for (key,val) in frequency_sevcurrent.items()]),\n",
    "                 np.array([val for (key,val) in frequency_sevcurrent.items()])])[1,1::6].astype(np.int)))\n",
    "print(\"Feb:\",\n",
    "      np.sum(np.array([np.array([key for (key,val) in frequency_sevcurrent.items()]),\n",
    "                 np.array([val for (key,val) in frequency_sevcurrent.items()])])[1,2::6].astype(np.int)))\n",
    "print(\"Mar:\",\n",
    "      np.sum(np.array([np.array([key for (key,val) in frequency_sevcurrent.items()]),\n",
    "                 np.array([val for (key,val) in frequency_sevcurrent.items()])])[1,3::6].astype(np.int)))\n",
    "print(\"Apr:\",\n",
    "      np.sum(np.array([np.array([key for (key,val) in frequency_sevcurrent.items()]),\n",
    "                 np.array([val for (key,val) in frequency_sevcurrent.items()])])[1,4::6].astype(np.int)))\n",
    "print(\"May:\",\n",
    "      np.sum(np.array([np.array([key for (key,val) in frequency_sevcurrent.items()]),\n",
    "                 np.array([val for (key,val) in frequency_sevcurrent.items()])])[1,5::6].astype(np.int)))"
   ]
  },
  {
   "cell_type": "markdown",
   "metadata": {},
   "source": [
    "Compute frequencies of storm patches during future climate that are rotating (UH > 60 m2/s2). \n",
    "These are total storm patches, which were selected using the Watershed method (dbz > 40)."
   ]
  },
  {
   "cell_type": "code",
   "execution_count": 15,
   "metadata": {},
   "outputs": [
    {
     "name": "stdout",
     "output_type": "stream",
     "text": [
      "Future Climate\n",
      "Dec: 1620\n",
      "Jan: 1511\n",
      "Feb: 3167\n",
      "Mar: 10178\n",
      "Apr: 18577\n",
      "May: 23440\n"
     ]
    }
   ],
   "source": [
    "print(\"Future Climate\")\n",
    "print(\"Dec:\",\n",
    "      np.sum(np.array([np.array([key for (key,val) in frequency_sevfuture.items()]),\n",
    "                 np.array([val for (key,val) in frequency_sevfuture.items()])])[1,::6].astype(np.int)))\n",
    "print(\"Jan:\",\n",
    "      np.sum(np.array([np.array([key for (key,val) in frequency_sevfuture.items()]),\n",
    "                 np.array([val for (key,val) in frequency_sevfuture.items()])])[1,1::6].astype(np.int)))\n",
    "print(\"Feb:\",\n",
    "      np.sum(np.array([np.array([key for (key,val) in frequency_sevfuture.items()]),\n",
    "                 np.array([val for (key,val) in frequency_sevfuture.items()])])[1,2::6].astype(np.int)))\n",
    "print(\"Mar:\",\n",
    "      np.sum(np.array([np.array([key for (key,val) in frequency_sevfuture.items()]),\n",
    "                 np.array([val for (key,val) in frequency_sevfuture.items()])])[1,3::6].astype(np.int)))\n",
    "print(\"Apr:\",\n",
    "      np.sum(np.array([np.array([key for (key,val) in frequency_sevfuture.items()]),\n",
    "                 np.array([val for (key,val) in frequency_sevfuture.items()])])[1,4::6].astype(np.int)))\n",
    "print(\"May:\",\n",
    "      np.sum(np.array([np.array([key for (key,val) in frequency_sevfuture.items()]),\n",
    "                 np.array([val for (key,val) in frequency_sevfuture.items()])])[1,5::6].astype(np.int)))"
   ]
  },
  {
   "cell_type": "markdown",
   "metadata": {},
   "source": [
    "Compute difference in frequencies of storm patches that are strongly rotating (UH > 75 m2/s2) during future climate minus current climate (e.g., future-current). \n",
    "These are total storm patches, which were selected using the Watershed method (dbz > 40)."
   ]
  },
  {
   "cell_type": "code",
   "execution_count": 16,
   "metadata": {},
   "outputs": [
    {
     "name": "stdout",
     "output_type": "stream",
     "text": [
      "Future-Current Climates\n",
      "Dec: 590\n",
      "Jan: 770\n",
      "Feb: 1199\n",
      "Mar: 2712\n",
      "Apr: 3100\n",
      "May: -34\n"
     ]
    }
   ],
   "source": [
    "print(\"Future-Current Climates\")\n",
    "print(\"Dec:\",\n",
    "      np.sum(np.array([np.array([key for (key,val) in frequency_sevfuture.items()]),\n",
    "                 np.array([val for (key,val) in frequency_sevfuture.items()])])[1,::6].astype(np.int))-\\\n",
    "      np.sum(np.array([np.array([key for (key,val) in frequency_sevcurrent.items()]),\n",
    "                 np.array([val for (key,val) in frequency_sevcurrent.items()])])[1,::6].astype(np.int))\n",
    "     )\n",
    "\n",
    "print(\"Jan:\",\n",
    "      np.sum(np.array([np.array([key for (key,val) in frequency_sevfuture.items()]),\n",
    "                 np.array([val for (key,val) in frequency_sevfuture.items()])])[1,1::6].astype(np.int))-\\\n",
    "      np.sum(np.array([np.array([key for (key,val) in frequency_sevcurrent.items()]),\n",
    "                 np.array([val for (key,val) in frequency_sevcurrent.items()])])[1,1::6].astype(np.int))\n",
    "     )\n",
    "\n",
    "print(\"Feb:\",\n",
    "      np.sum(np.array([np.array([key for (key,val) in frequency_sevfuture.items()]),\n",
    "                 np.array([val for (key,val) in frequency_sevfuture.items()])])[1,2::6].astype(np.int))-\\\n",
    "      np.sum(np.array([np.array([key for (key,val) in frequency_sevcurrent.items()]),\n",
    "                 np.array([val for (key,val) in frequency_sevcurrent.items()])])[1,2::6].astype(np.int))\n",
    "     )\n",
    "\n",
    "print(\"Mar:\",\n",
    "      np.sum(np.array([np.array([key for (key,val) in frequency_sevfuture.items()]),\n",
    "                 np.array([val for (key,val) in frequency_sevfuture.items()])])[1,3::6].astype(np.int))-\\\n",
    "      np.sum(np.array([np.array([key for (key,val) in frequency_sevcurrent.items()]),\n",
    "                 np.array([val for (key,val) in frequency_sevcurrent.items()])])[1,3::6].astype(np.int))\n",
    "     )\n",
    "\n",
    "print(\"Apr:\",\n",
    "      np.sum(np.array([np.array([key for (key,val) in frequency_sevfuture.items()]),\n",
    "                 np.array([val for (key,val) in frequency_sevfuture.items()])])[1,4::6].astype(np.int))-\\\n",
    "      np.sum(np.array([np.array([key for (key,val) in frequency_sevcurrent.items()]),\n",
    "                 np.array([val for (key,val) in frequency_sevcurrent.items()])])[1,4::6].astype(np.int))\n",
    "     )\n",
    "\n",
    "print(\"May:\",\n",
    "      np.sum(np.array([np.array([key for (key,val) in frequency_sevfuture.items()]),\n",
    "                 np.array([val for (key,val) in frequency_sevfuture.items()])])[1,5::6].astype(np.int))-\\\n",
    "      np.sum(np.array([np.array([key for (key,val) in frequency_sevcurrent.items()]),\n",
    "                 np.array([val for (key,val) in frequency_sevcurrent.items()])])[1,5::6].astype(np.int))\n",
    "     )"
   ]
  },
  {
   "cell_type": "markdown",
   "metadata": {},
   "source": [
    "MIN CLOUD TOP TEMP OF UH>75 STORM PATCHES: Open storm patch data sets with filtering by month using a for loop."
   ]
  },
  {
   "cell_type": "code",
   "execution_count": 17,
   "metadata": {},
   "outputs": [
    {
     "name": "stderr",
     "output_type": "stream",
     "text": [
      "/glade/work/molina/miniconda3/envs/python-tutorial/lib/python3.7/site-packages/ipykernel_launcher.py:17: RuntimeWarning: Mean of empty slice\n",
      "/glade/work/molina/miniconda3/envs/python-tutorial/lib/python3.7/site-packages/ipykernel_launcher.py:17: RuntimeWarning: Mean of empty slice\n",
      "/glade/work/molina/miniconda3/envs/python-tutorial/lib/python3.7/site-packages/ipykernel_launcher.py:23: RuntimeWarning: Mean of empty slice\n",
      "/glade/work/molina/miniconda3/envs/python-tutorial/lib/python3.7/site-packages/ipykernel_launcher.py:17: RuntimeWarning: Mean of empty slice\n"
     ]
    }
   ],
   "source": [
    "time_array = pd.date_range('2000-10-01','2013-09-30',freq='MS')[(pd.date_range('2000-10-01','2013-09-30',freq='MS').month==12)|\n",
    "                                                                (pd.date_range('2000-10-01','2013-09-30',freq='MS').month==1)|\n",
    "                                                                (pd.date_range('2000-10-01','2013-09-30',freq='MS').month==2)|\n",
    "                                                                (pd.date_range('2000-10-01','2013-09-30',freq='MS').month==3)|\n",
    "                                                                (pd.date_range('2000-10-01','2013-09-30',freq='MS').month==4)|\n",
    "                                                                (pd.date_range('2000-10-01','2013-09-30',freq='MS').month==5)]\n",
    "\n",
    "frequency_sevcurrent = {}\n",
    "frequency_sevfuture = {}\n",
    "\n",
    "for time in time_array[:]:\n",
    "    \n",
    "    data_uhct1 = \\\n",
    "        xr.open_mfdataset(f\"/glade/scratch/molina/WRF_CONUS1_derived/storm_envs/current_conus1_{time.strftime('%Y')}{time.strftime('%m')}*.nc\",\n",
    "                          combine='by_coords')    \n",
    "    frequency_sevcurrent[f\"{time.strftime('%Y')}_{time.strftime('%m')}\"] = \\\n",
    "        np.nanmean(data_uhct1.ctt_grid.values.min(axis=(1,2))[(data_uhct1.uh_grid.values.max(axis=(1,2))>75)])\n",
    "    \n",
    "    data_uhct2 = \\\n",
    "        xr.open_mfdataset(f\"/glade/scratch/molina/WRF_CONUS1_derived/storm_envs/future_conus1_{time.strftime('%Y')}{time.strftime('%m')}*.nc\",\n",
    "                          combine='by_coords')    \n",
    "    frequency_sevfuture[f\"{time.strftime('%Y')}_{time.strftime('%m')}\"] = \\\n",
    "        np.nanmean(data_uhct2.ctt_grid.values.min(axis=(1,2))[(data_uhct2.uh_grid.values.max(axis=(1,2))>75)])"
   ]
  },
  {
   "cell_type": "markdown",
   "metadata": {},
   "source": [
    "Compute cloud top min temperature of storm patches during current climate. \n",
    "These are storm patches that have > 75 m2/s2, which were selected using the Watershed method (dbz > 40)."
   ]
  },
  {
   "cell_type": "code",
   "execution_count": 18,
   "metadata": {},
   "outputs": [
    {
     "name": "stdout",
     "output_type": "stream",
     "text": [
      "Current Climate\n",
      "Dec: 11.268235\n",
      "Jan: 10.2082815\n",
      "Feb: 5.9198546\n",
      "Mar: 3.9206316\n",
      "Apr: 1.1534231\n",
      "May: 0.81996226\n"
     ]
    }
   ],
   "source": [
    "print(\"Current Climate\")\n",
    "print(\"Dec:\",\n",
    "      np.nanmean(np.array([val for (key,val) in frequency_sevcurrent.items()])[::6])\n",
    "     )\n",
    "print(\"Jan:\",\n",
    "      np.nanmean(np.array([val for (key,val) in frequency_sevcurrent.items()])[1::6])\n",
    "     )\n",
    "print(\"Feb:\",\n",
    "      np.nanmean(np.array([val for (key,val) in frequency_sevcurrent.items()])[2::6])\n",
    "     )\n",
    "print(\"Mar:\",\n",
    "      np.nanmean(np.array([val for (key,val) in frequency_sevcurrent.items()])[3::6])\n",
    "     )\n",
    "print(\"Apr:\",\n",
    "      np.nanmean(np.array([val for (key,val) in frequency_sevcurrent.items()])[4::6])\n",
    "     )\n",
    "print(\"May:\",\n",
    "      np.nanmean(np.array([val for (key,val) in frequency_sevcurrent.items()])[5::6])\n",
    "     )"
   ]
  },
  {
   "cell_type": "markdown",
   "metadata": {},
   "source": [
    "Compute cloud top min temperature of storm patches during future climate. \n",
    "These are storm patches that have > 75 m2/s2, which were selected using the Watershed method (dbz > 40)."
   ]
  },
  {
   "cell_type": "code",
   "execution_count": 19,
   "metadata": {},
   "outputs": [
    {
     "name": "stdout",
     "output_type": "stream",
     "text": [
      "Future Climate\n",
      "Dec: 13.189218\n",
      "Jan: 11.327775\n",
      "Feb: 9.131997\n",
      "Mar: 5.606034\n",
      "Apr: 2.7448564\n",
      "May: 3.1286592\n"
     ]
    }
   ],
   "source": [
    "print(\"Future Climate\")\n",
    "print(\"Dec:\",\n",
    "      np.nanmean(np.array([val for (key,val) in frequency_sevfuture.items()])[::6])\n",
    "     )\n",
    "print(\"Jan:\",\n",
    "      np.nanmean(np.array([val for (key,val) in frequency_sevfuture.items()])[1::6])\n",
    "     )\n",
    "print(\"Feb:\",\n",
    "      np.nanmean(np.array([val for (key,val) in frequency_sevfuture.items()])[2::6])\n",
    "     )\n",
    "print(\"Mar:\",\n",
    "      np.nanmean(np.array([val for (key,val) in frequency_sevfuture.items()])[3::6])\n",
    "     )\n",
    "print(\"Apr:\",\n",
    "      np.nanmean(np.array([val for (key,val) in frequency_sevfuture.items()])[4::6])\n",
    "     )\n",
    "print(\"May:\",\n",
    "      np.nanmean(np.array([val for (key,val) in frequency_sevfuture.items()])[5::6])\n",
    "     )"
   ]
  },
  {
   "cell_type": "markdown",
   "metadata": {},
   "source": [
    "Compute cloud top min temperature difference of storm patches between future and current climate. \n",
    "These are storm patches that have > 75 m2/s2, which were selected using the Watershed method (dbz > 40)."
   ]
  },
  {
   "cell_type": "code",
   "execution_count": 20,
   "metadata": {},
   "outputs": [
    {
     "name": "stdout",
     "output_type": "stream",
     "text": [
      "Future-Current Climates\n",
      "Dec: 1.9209824\n",
      "Jan: 1.1194935\n",
      "Feb: 3.2121425\n",
      "Mar: 1.6854022\n",
      "Apr: 1.5914333\n",
      "May: 2.308697\n"
     ]
    }
   ],
   "source": [
    "print(\"Future-Current Climates\")\n",
    "print(\"Dec:\",\n",
    "      np.nanmean(np.array([val for (key,val) in frequency_sevfuture.items()])[::6])-\\\n",
    "      np.nanmean(np.array([val for (key,val) in frequency_sevcurrent.items()])[::6])\n",
    "     )\n",
    "\n",
    "print(\"Jan:\",\n",
    "      np.nanmean(np.array([val for (key,val) in frequency_sevfuture.items()])[1::6])-\\\n",
    "      np.nanmean(np.array([val for (key,val) in frequency_sevcurrent.items()])[1::6])\n",
    "     )\n",
    "\n",
    "print(\"Feb:\",\n",
    "      np.nanmean(np.array([val for (key,val) in frequency_sevfuture.items()])[2::6])-\\\n",
    "      np.nanmean(np.array([val for (key,val) in frequency_sevcurrent.items()])[2::6])\n",
    "     )\n",
    "\n",
    "print(\"Mar:\",\n",
    "      np.nanmean(np.array([val for (key,val) in frequency_sevfuture.items()])[3::6])-\\\n",
    "      np.nanmean(np.array([val for (key,val) in frequency_sevcurrent.items()])[3::6])\n",
    "     )\n",
    "\n",
    "print(\"Apr:\",\n",
    "      np.nanmean(np.array([val for (key,val) in frequency_sevfuture.items()])[4::6])-\\\n",
    "      np.nanmean(np.array([val for (key,val) in frequency_sevcurrent.items()])[4::6])\n",
    "     )\n",
    "\n",
    "print(\"May:\",\n",
    "      np.nanmean(np.array([val for (key,val) in frequency_sevfuture.items()])[5::6])-\\\n",
    "      np.nanmean(np.array([val for (key,val) in frequency_sevcurrent.items()])[5::6])\n",
    "     )"
   ]
  },
  {
   "cell_type": "markdown",
   "metadata": {},
   "source": [
    "MIN CLOUD TOP TEMP OF UH>60 STORM PATCHES: Open storm patch data sets with filtering by month using a for loop."
   ]
  },
  {
   "cell_type": "code",
   "execution_count": 2,
   "metadata": {},
   "outputs": [],
   "source": [
    "time_array = pd.date_range('2000-10-01','2013-09-30',freq='MS')[(pd.date_range('2000-10-01','2013-09-30',freq='MS').month==12)|\n",
    "                                                                (pd.date_range('2000-10-01','2013-09-30',freq='MS').month==1)|\n",
    "                                                                (pd.date_range('2000-10-01','2013-09-30',freq='MS').month==2)|\n",
    "                                                                (pd.date_range('2000-10-01','2013-09-30',freq='MS').month==3)|\n",
    "                                                                (pd.date_range('2000-10-01','2013-09-30',freq='MS').month==4)|\n",
    "                                                                (pd.date_range('2000-10-01','2013-09-30',freq='MS').month==5)]\n",
    "\n",
    "frequency_sevcurrent = {}\n",
    "frequency_sevfuture = {}\n",
    "\n",
    "for time in time_array[:]:\n",
    "    \n",
    "    data_uhct1 = \\\n",
    "        xr.open_mfdataset(f\"/glade/scratch/molina/WRF_CONUS1_derived/storm_envs/current_conus1_{time.strftime('%Y')}{time.strftime('%m')}*.nc\",\n",
    "                          combine='by_coords')    \n",
    "    frequency_sevcurrent[f\"{time.strftime('%Y')}_{time.strftime('%m')}\"] = \\\n",
    "        np.nanmean(data_uhct1.ctt_grid.values.min(axis=(1,2))[(data_uhct1.uh_grid.values.max(axis=(1,2))>60)])\n",
    "    \n",
    "    data_uhct2 = \\\n",
    "        xr.open_mfdataset(f\"/glade/scratch/molina/WRF_CONUS1_derived/storm_envs/future_conus1_{time.strftime('%Y')}{time.strftime('%m')}*.nc\",\n",
    "                          combine='by_coords')    \n",
    "    frequency_sevfuture[f\"{time.strftime('%Y')}_{time.strftime('%m')}\"] = \\\n",
    "        np.nanmean(data_uhct2.ctt_grid.values.min(axis=(1,2))[(data_uhct2.uh_grid.values.max(axis=(1,2))>60)])"
   ]
  },
  {
   "cell_type": "markdown",
   "metadata": {},
   "source": [
    "Compute cloud top min temperature of storm patches during current climate. \n",
    "These are storm patches that have > 60 m2/s2, which were selected using the Watershed method (dbz > 40)."
   ]
  },
  {
   "cell_type": "code",
   "execution_count": 3,
   "metadata": {},
   "outputs": [
    {
     "name": "stdout",
     "output_type": "stream",
     "text": [
      "Current Climate\n",
      "Dec: 10.966656\n",
      "Jan: 10.56343\n",
      "Feb: 7.7698755\n",
      "Mar: 5.010597\n",
      "Apr: 2.8429422\n",
      "May: 3.045265\n"
     ]
    }
   ],
   "source": [
    "print(\"Current Climate\")\n",
    "print(\"Dec:\",\n",
    "      np.nanmean(np.array([val for (key,val) in frequency_sevcurrent.items()])[::6])\n",
    "     )\n",
    "print(\"Jan:\",\n",
    "      np.nanmean(np.array([val for (key,val) in frequency_sevcurrent.items()])[1::6])\n",
    "     )\n",
    "print(\"Feb:\",\n",
    "      np.nanmean(np.array([val for (key,val) in frequency_sevcurrent.items()])[2::6])\n",
    "     )\n",
    "print(\"Mar:\",\n",
    "      np.nanmean(np.array([val for (key,val) in frequency_sevcurrent.items()])[3::6])\n",
    "     )\n",
    "print(\"Apr:\",\n",
    "      np.nanmean(np.array([val for (key,val) in frequency_sevcurrent.items()])[4::6])\n",
    "     )\n",
    "print(\"May:\",\n",
    "      np.nanmean(np.array([val for (key,val) in frequency_sevcurrent.items()])[5::6])\n",
    "     )"
   ]
  },
  {
   "cell_type": "markdown",
   "metadata": {},
   "source": [
    "Compute cloud top min temperature of storm patches during future climate. \n",
    "These are storm patches that have > 60 m2/s2, which were selected using the Watershed method (dbz > 40)."
   ]
  },
  {
   "cell_type": "code",
   "execution_count": 4,
   "metadata": {},
   "outputs": [
    {
     "name": "stdout",
     "output_type": "stream",
     "text": [
      "Future Climate\n",
      "Dec: 13.540887\n",
      "Jan: 12.351469\n",
      "Feb: 10.070496\n",
      "Mar: 7.09053\n",
      "Apr: 4.202476\n",
      "May: 5.124115\n"
     ]
    }
   ],
   "source": [
    "print(\"Future Climate\")\n",
    "print(\"Dec:\",\n",
    "      np.nanmean(np.array([val for (key,val) in frequency_sevfuture.items()])[::6])\n",
    "     )\n",
    "print(\"Jan:\",\n",
    "      np.nanmean(np.array([val for (key,val) in frequency_sevfuture.items()])[1::6])\n",
    "     )\n",
    "print(\"Feb:\",\n",
    "      np.nanmean(np.array([val for (key,val) in frequency_sevfuture.items()])[2::6])\n",
    "     )\n",
    "print(\"Mar:\",\n",
    "      np.nanmean(np.array([val for (key,val) in frequency_sevfuture.items()])[3::6])\n",
    "     )\n",
    "print(\"Apr:\",\n",
    "      np.nanmean(np.array([val for (key,val) in frequency_sevfuture.items()])[4::6])\n",
    "     )\n",
    "print(\"May:\",\n",
    "      np.nanmean(np.array([val for (key,val) in frequency_sevfuture.items()])[5::6])\n",
    "     )"
   ]
  },
  {
   "cell_type": "markdown",
   "metadata": {},
   "source": [
    "Compute cloud top min temperature difference of storm patches between future and current climate. \n",
    "These are storm patches that have > 60 m2/s2, which were selected using the Watershed method (dbz > 40)."
   ]
  },
  {
   "cell_type": "code",
   "execution_count": 5,
   "metadata": {},
   "outputs": [
    {
     "name": "stdout",
     "output_type": "stream",
     "text": [
      "Future-Current Climates\n",
      "Dec: 2.5742311\n",
      "Jan: 1.7880392\n",
      "Feb: 2.30062\n",
      "Mar: 2.0799327\n",
      "Apr: 1.3595338\n",
      "May: 2.07885\n"
     ]
    }
   ],
   "source": [
    "print(\"Future-Current Climates\")\n",
    "print(\"Dec:\",\n",
    "      np.nanmean(np.array([val for (key,val) in frequency_sevfuture.items()])[::6])-\\\n",
    "      np.nanmean(np.array([val for (key,val) in frequency_sevcurrent.items()])[::6])\n",
    "     )\n",
    "\n",
    "print(\"Jan:\",\n",
    "      np.nanmean(np.array([val for (key,val) in frequency_sevfuture.items()])[1::6])-\\\n",
    "      np.nanmean(np.array([val for (key,val) in frequency_sevcurrent.items()])[1::6])\n",
    "     )\n",
    "\n",
    "print(\"Feb:\",\n",
    "      np.nanmean(np.array([val for (key,val) in frequency_sevfuture.items()])[2::6])-\\\n",
    "      np.nanmean(np.array([val for (key,val) in frequency_sevcurrent.items()])[2::6])\n",
    "     )\n",
    "\n",
    "print(\"Mar:\",\n",
    "      np.nanmean(np.array([val for (key,val) in frequency_sevfuture.items()])[3::6])-\\\n",
    "      np.nanmean(np.array([val for (key,val) in frequency_sevcurrent.items()])[3::6])\n",
    "     )\n",
    "\n",
    "print(\"Apr:\",\n",
    "      np.nanmean(np.array([val for (key,val) in frequency_sevfuture.items()])[4::6])-\\\n",
    "      np.nanmean(np.array([val for (key,val) in frequency_sevcurrent.items()])[4::6])\n",
    "     )\n",
    "\n",
    "print(\"May:\",\n",
    "      np.nanmean(np.array([val for (key,val) in frequency_sevfuture.items()])[5::6])-\\\n",
    "      np.nanmean(np.array([val for (key,val) in frequency_sevcurrent.items()])[5::6])\n",
    "     )"
   ]
  },
  {
   "cell_type": "markdown",
   "metadata": {},
   "source": []
  },
  {
   "cell_type": "markdown",
   "metadata": {},
   "source": []
  },
  {
   "cell_type": "markdown",
   "metadata": {},
   "source": []
  }
 ],
 "metadata": {
  "kernelspec": {
   "display_name": "Python [conda env:miniconda3-python-tutorial]",
   "language": "python",
   "name": "conda-env-miniconda3-python-tutorial-py"
  },
  "language_info": {
   "codemirror_mode": {
    "name": "ipython",
    "version": 3
   },
   "file_extension": ".py",
   "mimetype": "text/x-python",
   "name": "python",
   "nbconvert_exporter": "python",
   "pygments_lexer": "ipython3",
   "version": "3.7.3"
  }
 },
 "nbformat": 4,
 "nbformat_minor": 4
}
