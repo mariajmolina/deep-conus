{
 "cells": [
  {
   "cell_type": "markdown",
   "id": "offshore-motel",
   "metadata": {},
   "source": [
    "### Table 3 (Molina, Gagne, Prein; under review)\n",
    "\n",
    "Table contains various skill metrics used for evaluation of CNN performance during the current and future climate.  Also shown are the total number of true positive (i.e., hits), false positive (i.e., false alarms), false negative (i.e., misses), and true negative predictions made by the CNN. Future thunderstorms that have higher low-level moisture content than most cases in the future climate (i.e., outlier cases with ≥ 99th percentile of 1 km water vapor mixing ratio in the future climate), are also shown.  Metrics were computed using a 0.5 forecast probability threshold for the current, future, and outlier thunderstorms.\n",
    "\n",
    "**Table by Maria J. Molina (NCAR)**"
   ]
  },
  {
   "cell_type": "code",
   "execution_count": 1,
   "id": "parallel-action",
   "metadata": {},
   "outputs": [],
   "source": [
    "import xarray as xr\n",
    "import numpy as np\n",
    "import pandas as pd\n",
    "import matplotlib.pyplot as plt\n",
    "from configpaths import current_dl_models, future_dl_models"
   ]
  },
  {
   "cell_type": "code",
   "execution_count": 2,
   "id": "medium-superintendent",
   "metadata": {},
   "outputs": [],
   "source": [
    "def trueneg_sum(directory, modelnum, str_case):\n",
    "    \"\"\"\n",
    "    str_case (str): TP, FP, FN, TN\n",
    "    \"\"\"\n",
    "    print(str_case, np.around([np.nansum([\n",
    "        pd.read_csv(f'{directory}scalar_results_nomask_model{modelnum}_random1.csv')[str_case].values[0],\n",
    "        pd.read_csv(f'{directory}scalar_results_nomask_model{modelnum}_random2.csv')[str_case].values[0],\n",
    "        pd.read_csv(f'{directory}scalar_results_nomask_model{modelnum}_random3.csv')[str_case].values[0],\n",
    "        pd.read_csv(f'{directory}scalar_results_nomask_model{modelnum}_random4.csv')[str_case].values[0],\n",
    "        pd.read_csv(f'{directory}scalar_results_nomask_model{modelnum}_random5.csv')[str_case].values[0]\n",
    "    ])],2))\n",
    "    \n",
    "def trueneg_outsum(directory, modelnum, str_case):\n",
    "    \"\"\"\n",
    "    str_case (str): TP, FP, FN, TN\n",
    "    \"\"\"\n",
    "    print(str_case, np.around([\n",
    "        pd.read_csv(f'{directory}scalar_outresults_nomask_model{modelnum}_random1.csv')[str_case].values[0],\n",
    "    ],2))\n",
    "\n",
    "def trueneg_freqs(directory, modelnum, str_case):\n",
    "    \"\"\"\n",
    "    str_case (str): TP, FP, FN, TN\n",
    "    \"\"\"\n",
    "    print(str_case, np.around([np.nanmean([\n",
    "        pd.read_csv(f'{directory}scalar_results_nomask_model{modelnum}_random1.csv')[str_case].values[0],\n",
    "        pd.read_csv(f'{directory}scalar_results_nomask_model{modelnum}_random2.csv')[str_case].values[0],\n",
    "        pd.read_csv(f'{directory}scalar_results_nomask_model{modelnum}_random3.csv')[str_case].values[0],\n",
    "        pd.read_csv(f'{directory}scalar_results_nomask_model{modelnum}_random4.csv')[str_case].values[0],\n",
    "        pd.read_csv(f'{directory}scalar_results_nomask_model{modelnum}_random5.csv')[str_case].values[0]\n",
    "    ])],2))\n",
    "    \n",
    "def trueneg_outfreqs(directory, modelnum, str_case):\n",
    "    \"\"\"\n",
    "    str_case (str): TP, FP, FN, TN\n",
    "    \"\"\"\n",
    "    print(str_case, np.around([\n",
    "        pd.read_csv(f'{directory}scalar_outresults_nomask_model{modelnum}_random1.csv')[str_case].values[0],\n",
    "    ],2))\n",
    "    \n",
    "def bss_freqs(directory, modelnum, str_case):\n",
    "    \"\"\"\n",
    "    BSS, resolution, uncertainty\n",
    "    \"\"\"\n",
    "    print(str_case, np.around([np.nanmean([\n",
    "        pd.read_csv(f'{directory}bss_scalar_results_nomask_model{modelnum}_random1_0.05.csv')[str_case].values[0],\n",
    "        pd.read_csv(f'{directory}bss_scalar_results_nomask_model{modelnum}_random2_0.05.csv')[str_case].values[0],\n",
    "        pd.read_csv(f'{directory}bss_scalar_results_nomask_model{modelnum}_random3_0.05.csv')[str_case].values[0],\n",
    "        pd.read_csv(f'{directory}bss_scalar_results_nomask_model{modelnum}_random4_0.05.csv')[str_case].values[0],\n",
    "        pd.read_csv(f'{directory}bss_scalar_results_nomask_model{modelnum}_random5_0.05.csv')[str_case].values[0]\n",
    "    ])],2))\n",
    "    \n",
    "def bss_outfreqs(directory, modelnum, str_case):\n",
    "    \"\"\"\n",
    "    BSS, resolution, uncertainty\n",
    "    \"\"\"\n",
    "    print(str_case, np.around([\n",
    "        pd.read_csv(f'{directory}bss_scalar_outresults_nomask_model{modelnum}_random1_0.1.csv')[str_case].values[0],\n",
    "    ],2))"
   ]
  },
  {
   "cell_type": "code",
   "execution_count": 3,
   "id": "growing-internet",
   "metadata": {},
   "outputs": [
    {
     "name": "stdout",
     "output_type": "stream",
     "text": [
      "TP [9089.]\n",
      "FP [1633.]\n",
      "FN [2250.]\n",
      "TN [441270.]\n",
      "AUC [0.9]\n",
      "CSI [0.7]\n",
      "HitRate [0.8]\n",
      "Bias [0.95]\n",
      "BSS [0.74]\n",
      "resolution [0.02]\n",
      "uncertainty [0.02]\n"
     ]
    }
   ],
   "source": [
    "directory = current_dl_models; model = '25'\n",
    "\n",
    "trueneg_sum(directory, model, str_case='TP')\n",
    "trueneg_sum(directory, model, str_case='FP')\n",
    "trueneg_sum(directory, model, str_case='FN')\n",
    "trueneg_sum(directory, model, str_case='TN')\n",
    "\n",
    "trueneg_freqs(directory, model, str_case='AUC')\n",
    "trueneg_freqs(directory, model, str_case='CSI')\n",
    "trueneg_freqs(directory, model, str_case='HitRate')\n",
    "trueneg_freqs(directory, model, str_case='Bias')\n",
    "\n",
    "bss_freqs(directory, model, str_case='BSS')\n",
    "bss_freqs(directory, model, str_case='resolution')\n",
    "bss_freqs(directory, model, str_case='uncertainty')"
   ]
  },
  {
   "cell_type": "code",
   "execution_count": 4,
   "id": "parental-tunisia",
   "metadata": {},
   "outputs": [
    {
     "name": "stdout",
     "output_type": "stream",
     "text": [
      "TP [10984.]\n",
      "FP [3420.]\n",
      "FN [1954.]\n",
      "TN [440109.]\n",
      "AUC [0.92]\n",
      "CSI [0.67]\n",
      "HitRate [0.85]\n",
      "Bias [1.11]\n",
      "BSS [0.7]\n",
      "resolution [0.02]\n",
      "uncertainty [0.03]\n"
     ]
    }
   ],
   "source": [
    "directory = future_dl_models; model = '25'\n",
    "\n",
    "trueneg_sum(directory, model, str_case='TP')\n",
    "trueneg_sum(directory, model, str_case='FP')\n",
    "trueneg_sum(directory, model, str_case='FN')\n",
    "trueneg_sum(directory, model, str_case='TN')\n",
    "\n",
    "trueneg_freqs(directory, model, str_case='AUC')\n",
    "trueneg_freqs(directory, model, str_case='CSI')\n",
    "trueneg_freqs(directory, model, str_case='HitRate')\n",
    "trueneg_freqs(directory, model, str_case='Bias')\n",
    "\n",
    "bss_freqs(directory, model, str_case='BSS')\n",
    "bss_freqs(directory, model, str_case='resolution')\n",
    "bss_freqs(directory, model, str_case='uncertainty')"
   ]
  },
  {
   "cell_type": "code",
   "execution_count": 5,
   "id": "german-raising",
   "metadata": {},
   "outputs": [
    {
     "name": "stdout",
     "output_type": "stream",
     "text": [
      "TP [601.]\n",
      "FP [280.]\n",
      "FN [34.]\n",
      "TN [3652.]\n",
      "AUC [0.94]\n",
      "CSI [0.66]\n",
      "HitRate [0.95]\n",
      "Bias [1.39]\n",
      "BSS [0.59]\n",
      "resolution [0.08]\n",
      "uncertainty [0.11]\n"
     ]
    }
   ],
   "source": [
    "directory = future_dl_models; model = '25'\n",
    "\n",
    "trueneg_outsum(directory, model, str_case='TP')\n",
    "trueneg_outsum(directory, model, str_case='FP')\n",
    "trueneg_outsum(directory, model, str_case='FN')\n",
    "trueneg_outsum(directory, model, str_case='TN')\n",
    "\n",
    "trueneg_outfreqs(directory, model, str_case='AUC')\n",
    "trueneg_outfreqs(directory, model, str_case='CSI')\n",
    "trueneg_outfreqs(directory, model, str_case='HitRate')\n",
    "trueneg_outfreqs(directory, model, str_case='Bias')\n",
    "\n",
    "bss_outfreqs(directory, model, str_case='BSS')\n",
    "bss_outfreqs(directory, model, str_case='resolution')\n",
    "bss_outfreqs(directory, model, str_case='uncertainty')"
   ]
  },
  {
   "cell_type": "code",
   "execution_count": null,
   "id": "atomic-shock",
   "metadata": {},
   "outputs": [],
   "source": []
  }
 ],
 "metadata": {
  "kernelspec": {
   "display_name": "Python [conda env:miniconda3-python-tutorial]",
   "language": "python",
   "name": "conda-env-miniconda3-python-tutorial-python3_myenv"
  },
  "language_info": {
   "codemirror_mode": {
    "name": "ipython",
    "version": 3
   },
   "file_extension": ".py",
   "mimetype": "text/x-python",
   "name": "python",
   "nbconvert_exporter": "python",
   "pygments_lexer": "ipython3",
   "version": "3.7.3"
  }
 },
 "nbformat": 4,
 "nbformat_minor": 5
}
