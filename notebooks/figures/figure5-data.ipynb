{
 "cells": [
  {
   "cell_type": "markdown",
   "metadata": {},
   "source": [
    "### Creation of data for Figure 5 (Molina, Gagne, and Prein; under review)\n",
    "\n",
    "Imports"
   ]
  },
  {
   "cell_type": "code",
   "execution_count": 1,
   "metadata": {},
   "outputs": [],
   "source": [
    "import matplotlib.pyplot as plt\n",
    "import seaborn as sns\n",
    "import pandas as pd\n",
    "import numpy as np\n",
    "import matplotlib.gridspec as gridspec\n",
    "import matplotlib.image as mpimg\n",
    "import svgutils.compose as sc\n",
    "from IPython.display import SVG\n",
    "from configpaths import dlproj_main, deep_conus_home, current_dl_preprocess, future_dl_preprocess, current_dl_models, future_dl_models"
   ]
  },
  {
   "cell_type": "code",
   "execution_count": 2,
   "metadata": {},
   "outputs": [],
   "source": [
    "exec(open(f'{deep_conus_home}10_create_study_visualizations.py').read())"
   ]
  },
  {
   "cell_type": "code",
   "execution_count": 4,
   "metadata": {},
   "outputs": [],
   "source": [
    "modelnum = 25"
   ]
  },
  {
   "cell_type": "code",
   "execution_count": 5,
   "metadata": {},
   "outputs": [],
   "source": [
    "currentdata=StudyVisualizer(climate='current', variable1='WMAX', variable2='QVAPOR5',\n",
    "                            dist_directory=f'{current_dl_preprocess}', \n",
    "                            model_directory=f'{current_dl_models}', \n",
    "                            model_num=modelnum, \n",
    "                            comp_directory=f'{current_dl_models}', \n",
    "                            unbalanced=True,\n",
    "                            mask=False, \n",
    "                            random_choice=1)\n",
    "\n",
    "futuredata=StudyVisualizer(climate='future', variable1='WMAX', variable2='QVAPOR5',\n",
    "                            dist_directory=f'{future_dl_preprocess}',  \n",
    "                            model_directory=f'{current_dl_models}', \n",
    "                            model_num=modelnum, \n",
    "                            comp_directory=f'{future_dl_models}', \n",
    "                            unbalanced=True,\n",
    "                            mask=False, \n",
    "                            random_choice=1, outliers=True)"
   ]
  },
  {
   "cell_type": "code",
   "execution_count": 6,
   "metadata": {},
   "outputs": [],
   "source": [
    "current_data=currentdata.extract_variable_and_dbz()\n",
    "future_data=futuredata.extract_variable_and_dbz()\n",
    "\n",
    "currentdata.extract_variable_mean_and_std()\n",
    "futuredata.extract_variable_mean_and_std()\n",
    "\n",
    "curr_data_tp=currentdata.grab_value_of_storm(current_data, group_choice='tp')\n",
    "futu_data_tp=futuredata.grab_value_of_storm(future_data, group_choice='tp')\n",
    "curr_data_tn=currentdata.grab_value_of_storm(current_data, group_choice='tn')\n",
    "futu_data_tn=futuredata.grab_value_of_storm(future_data, group_choice='tn')\n",
    "curr_data_fp=currentdata.grab_value_of_storm(current_data, group_choice='fp')\n",
    "futu_data_fp=futuredata.grab_value_of_storm(future_data, group_choice='fp')\n",
    "curr_data_fn=currentdata.grab_value_of_storm(current_data, group_choice='fn')\n",
    "futu_data_fn=futuredata.grab_value_of_storm(future_data, group_choice='fn')"
   ]
  },
  {
   "cell_type": "code",
   "execution_count": 7,
   "metadata": {},
   "outputs": [],
   "source": [
    "curr_wind_tp, futu_wind_tp = currentdata.compute_wind_shear(current_data, future_data, comp_str='tp')\n",
    "\n",
    "df_tp=pd.DataFrame(np.zeros((curr_wind_tp[:300].values.shape[0], 4), dtype=float),\n",
    "                columns=[\"QVAPOR_C\",\"SHEAR_C\",\"QVAPOR_F\",\"SHEAR_F\"])\n",
    "\n",
    "df_tp[\"QVAPOR_C\"]=(curr_data_tp[1]*1000)[:300]\n",
    "df_tp[\"SHEAR_C\"]=curr_wind_tp[:300].values\n",
    "df_tp[\"QVAPOR_F\"]=(futu_data_tp[1]*1000)[:300]\n",
    "df_tp[\"SHEAR_F\"]=futu_wind_tp[:300].values"
   ]
  },
  {
   "cell_type": "code",
   "execution_count": 8,
   "metadata": {},
   "outputs": [],
   "source": [
    "curr_wind_tn, futu_wind_tn = currentdata.compute_wind_shear(current_data, future_data, comp_str='tn')\n",
    "\n",
    "df_tn=pd.DataFrame(np.zeros((curr_wind_tn[:300].values.shape[0], 4), dtype=float),\n",
    "                columns=[\"QVAPOR_C\",\"SHEAR_C\",\"QVAPOR_F\",\"SHEAR_F\"])\n",
    "\n",
    "df_tn[\"QVAPOR_C\"]=(curr_data_tn[1]*1000)[:300]\n",
    "df_tn[\"SHEAR_C\"]=curr_wind_tn[:300].values\n",
    "df_tn[\"QVAPOR_F\"]=(futu_data_tn[1]*1000)[:300]\n",
    "df_tn[\"SHEAR_F\"]=futu_wind_tn[:300].values"
   ]
  },
  {
   "cell_type": "code",
   "execution_count": 9,
   "metadata": {},
   "outputs": [],
   "source": [
    "curr_wind_fp, futu_wind_fp = currentdata.compute_wind_shear(current_data, future_data, comp_str='fp')\n",
    "\n",
    "df_fp=pd.DataFrame(np.zeros((curr_wind_fp[:114].values.shape[0], 4), dtype=float),\n",
    "                   columns=[\"QVAPOR_C\",\"SHEAR_C\",\"QVAPOR_F\",\"SHEAR_F\"])\n",
    "\n",
    "df_fp[\"QVAPOR_C\"]=(curr_data_fp[1]*1000)[:114]\n",
    "df_fp[\"SHEAR_C\"]=curr_wind_fp[:114].values\n",
    "df_fp[\"QVAPOR_F\"]=(futu_data_fp[1]*1000)[:114]\n",
    "df_fp[\"SHEAR_F\"]=futu_wind_fp[:114].values"
   ]
  },
  {
   "cell_type": "code",
   "execution_count": 10,
   "metadata": {},
   "outputs": [],
   "source": [
    "curr_wind_fn, futu_wind_fn = currentdata.compute_wind_shear(current_data, future_data, comp_str='fn')"
   ]
  },
  {
   "cell_type": "code",
   "execution_count": 11,
   "metadata": {},
   "outputs": [],
   "source": [
    "curr_data_fntotal=curr_data_fn[1]\n",
    "futu_data_fntotal=futu_data_fn[1]\n",
    "curr_wind_fntotal=curr_wind_fn\n",
    "futu_wind_fntotal=futu_wind_fn"
   ]
  },
  {
   "cell_type": "code",
   "execution_count": 14,
   "metadata": {},
   "outputs": [],
   "source": [
    "df_fn=pd.DataFrame(np.zeros((34, 4), dtype=float),\n",
    "                columns=[\"QVAPOR_C\",\"SHEAR_C\",\"QVAPOR_F\",\"SHEAR_F\"])\n",
    "\n",
    "df_fn[\"QVAPOR_C\"]=(curr_data_fntotal*1000)[:34]\n",
    "df_fn[\"SHEAR_C\"]=curr_wind_fntotal.values[:34]\n",
    "df_fn[\"QVAPOR_F\"]=(futu_data_fntotal*1000)[:34]\n",
    "df_fn[\"SHEAR_F\"]=futu_wind_fntotal.values[:34]"
   ]
  },
  {
   "cell_type": "code",
   "execution_count": 18,
   "metadata": {},
   "outputs": [],
   "source": [
    "df_tp.to_csv(f'{dlproj_main}/model{modelnum}_fig5_df_tp.csv')\n",
    "df_fp.to_csv(f'{dlproj_main}/model{modelnum}_fig5_df_fp.csv')\n",
    "df_fn.to_csv(f'{dlproj_main}/model{modelnum}_fig5_df_fn.csv')\n",
    "df_tn.to_csv(f'{dlproj_main}/model{modelnum}_fig5_df_tn.csv')"
   ]
  }
 ],
 "metadata": {
  "kernelspec": {
   "display_name": "Python [conda env:miniconda3-python-tutorial]",
   "language": "python",
   "name": "conda-env-miniconda3-python-tutorial-py"
  },
  "language_info": {
   "codemirror_mode": {
    "name": "ipython",
    "version": 3
   },
   "file_extension": ".py",
   "mimetype": "text/x-python",
   "name": "python",
   "nbconvert_exporter": "python",
   "pygments_lexer": "ipython3",
   "version": "3.7.3"
  }
 },
 "nbformat": 4,
 "nbformat_minor": 4
}
