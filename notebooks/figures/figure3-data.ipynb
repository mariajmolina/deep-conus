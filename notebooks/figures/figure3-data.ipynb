{
 "cells": [
  {
   "cell_type": "markdown",
   "metadata": {},
   "source": [
    "### Creation of data for Figure 3 (Molina, Gagne, and Prein; under review)\n",
    "\n",
    "Imports"
   ]
  },
  {
   "cell_type": "code",
   "execution_count": 1,
   "metadata": {},
   "outputs": [],
   "source": [
    "import xarray as xr\n",
    "import numpy as np\n",
    "import pandas as pd\n",
    "import matplotlib.pyplot as plt\n",
    "import matplotlib.pylab as pl\n",
    "import matplotlib.patheffects as path_effects\n",
    "import glob\n",
    "from configpaths import dlproj_main, model25_dir_current, future_dl_models\n",
    "\n",
    "model25_dir_future = future_dl_models"
   ]
  },
  {
   "cell_type": "markdown",
   "metadata": {},
   "source": [
    "Open **performance diagram curves** for current, future, and outlier cases for model 25."
   ]
  },
  {
   "cell_type": "code",
   "execution_count": 2,
   "metadata": {},
   "outputs": [],
   "source": [
    "which_model='25'\n",
    "\n",
    "# current\n",
    "dl_current1 = pd.read_csv(f'{model25_dir_current}/probability_results_nomask_model{which_model}_random1.csv')\n",
    "dl_current2 = pd.read_csv(f'{model25_dir_current}/probability_results_nomask_model{which_model}_random2.csv')\n",
    "dl_current3 = pd.read_csv(f'{model25_dir_current}/probability_results_nomask_model{which_model}_random3.csv')\n",
    "dl_current4 = pd.read_csv(f'{model25_dir_current}/probability_results_nomask_model{which_model}_random4.csv')\n",
    "dl_current5 = pd.read_csv(f'{model25_dir_current}/probability_results_nomask_model{which_model}_random5.csv')\n",
    "# future\n",
    "dl_future1 = pd.read_csv(f'{model25_dir_future}/probability_results_nomask_model{which_model}_random1.csv')\n",
    "dl_future2 = pd.read_csv(f'{model25_dir_future}/probability_results_nomask_model{which_model}_random2.csv')\n",
    "dl_future3 = pd.read_csv(f'{model25_dir_future}/probability_results_nomask_model{which_model}_random3.csv')\n",
    "dl_future4 = pd.read_csv(f'{model25_dir_future}/probability_results_nomask_model{which_model}_random4.csv')\n",
    "dl_future5 = pd.read_csv(f'{model25_dir_future}/probability_results_nomask_model{which_model}_random5.csv')\n",
    "# outlier\n",
    "dl_future_out1 = pd.read_csv(f'{model25_dir_future}/probability_outresults_nomask_model{which_model}_random1.csv')"
   ]
  },
  {
   "cell_type": "markdown",
   "metadata": {},
   "source": [
    "Open **performance diagram error metrics as scalars for 0.5 probability threshold** for current, future, and outlier cases for model 25."
   ]
  },
  {
   "cell_type": "code",
   "execution_count": 3,
   "metadata": {},
   "outputs": [],
   "source": [
    "# current\n",
    "dl_current11 = pd.read_csv(f'{model25_dir_current}/scalar_results_nomask_model{which_model}_random1.csv')\n",
    "dl_current22 = pd.read_csv(f'{model25_dir_current}/scalar_results_nomask_model{which_model}_random2.csv')\n",
    "dl_current33 = pd.read_csv(f'{model25_dir_current}/scalar_results_nomask_model{which_model}_random3.csv')\n",
    "dl_current44 = pd.read_csv(f'{model25_dir_current}/scalar_results_nomask_model{which_model}_random4.csv')\n",
    "dl_current55 = pd.read_csv(f'{model25_dir_current}/scalar_results_nomask_model{which_model}_random5.csv')\n",
    "# future\n",
    "dl_future11 = pd.read_csv(f'{model25_dir_future}/scalar_results_nomask_model{which_model}_random1.csv')\n",
    "dl_future22 = pd.read_csv(f'{model25_dir_future}/scalar_results_nomask_model{which_model}_random2.csv')\n",
    "dl_future33 = pd.read_csv(f'{model25_dir_future}/scalar_results_nomask_model{which_model}_random3.csv')\n",
    "dl_future44 = pd.read_csv(f'{model25_dir_future}/scalar_results_nomask_model{which_model}_random4.csv')\n",
    "dl_future55 = pd.read_csv(f'{model25_dir_future}/scalar_results_nomask_model{which_model}_random5.csv')\n",
    "# outlier\n",
    "dl_future_outl1 = pd.read_csv(f'{model25_dir_future}/scalar_outresults_nomask_model{which_model}_random1.csv')"
   ]
  },
  {
   "cell_type": "markdown",
   "metadata": {},
   "source": [
    "Extract **maximum CSI** values for current, future, and outlier cases for all thresholds."
   ]
  },
  {
   "cell_type": "code",
   "execution_count": 7,
   "metadata": {},
   "outputs": [],
   "source": [
    "# current\n",
    "CSI_current = np.nanmax([dl_current1[\"CSI\"].values, dl_current2[\"CSI\"].values, dl_current3[\"CSI\"].values,\n",
    "                         dl_current4[\"CSI\"].values, dl_current5[\"CSI\"].values])\n",
    "# future\n",
    "CSI_future = np.nanmax([dl_future1[\"CSI\"].values, dl_future2[\"CSI\"].values, dl_future3[\"CSI\"].values,\n",
    "                        dl_future4[\"CSI\"].values, dl_future5[\"CSI\"].values])\n",
    "# outlier\n",
    "CSI_outlier = np.nanmax([dl_future_out1[\"CSI\"].values])"
   ]
  },
  {
   "cell_type": "code",
   "execution_count": 8,
   "metadata": {},
   "outputs": [
    {
     "name": "stdout",
     "output_type": "stream",
     "text": [
      "0.7167805618830676\n",
      "0.6931515957446809\n",
      "0.7315436241610739\n"
     ]
    }
   ],
   "source": [
    "print(CSI_current)\n",
    "print(CSI_future)\n",
    "print(CSI_outlier)"
   ]
  },
  {
   "cell_type": "markdown",
   "metadata": {},
   "source": [
    "Extract **attributes diagram** curve data for model 25 at bin resolution of 0.05."
   ]
  },
  {
   "cell_type": "code",
   "execution_count": 9,
   "metadata": {},
   "outputs": [],
   "source": [
    "bin_width='0.05'\n",
    "\n",
    "# current\n",
    "bss_curve_c1=pd.read_csv(f'{model25_dir_current}/bss_curve_results_nomask_model{which_model}_random1_{bin_width}.csv')\n",
    "bss_curve_c2=pd.read_csv(f'{model25_dir_current}/bss_curve_results_nomask_model{which_model}_random2_{bin_width}.csv')\n",
    "bss_curve_c3=pd.read_csv(f'{model25_dir_current}/bss_curve_results_nomask_model{which_model}_random3_{bin_width}.csv')\n",
    "bss_curve_c4=pd.read_csv(f'{model25_dir_current}/bss_curve_results_nomask_model{which_model}_random4_{bin_width}.csv')\n",
    "bss_curve_c5=pd.read_csv(f'{model25_dir_current}/bss_curve_results_nomask_model{which_model}_random5_{bin_width}.csv')\n",
    "# future\n",
    "bss_curve_f1=pd.read_csv(f'{model25_dir_future}/bss_curve_results_nomask_model{which_model}_random1_{bin_width}.csv')\n",
    "bss_curve_f2=pd.read_csv(f'{model25_dir_future}/bss_curve_results_nomask_model{which_model}_random2_{bin_width}.csv')\n",
    "bss_curve_f3=pd.read_csv(f'{model25_dir_future}/bss_curve_results_nomask_model{which_model}_random3_{bin_width}.csv')\n",
    "bss_curve_f4=pd.read_csv(f'{model25_dir_future}/bss_curve_results_nomask_model{which_model}_random4_{bin_width}.csv')\n",
    "bss_curve_f5=pd.read_csv(f'{model25_dir_future}/bss_curve_results_nomask_model{which_model}_random5_{bin_width}.csv')\n",
    "# outlier\n",
    "bss_curve_out1=pd.read_csv(f'{model25_dir_future}/bss_curve_outresults_nomask_model{which_model}_random1_0.1.csv')"
   ]
  },
  {
   "cell_type": "markdown",
   "metadata": {},
   "source": [
    "Brier **skill score scalar** values at obs threshold 0.5."
   ]
  },
  {
   "cell_type": "code",
   "execution_count": 10,
   "metadata": {},
   "outputs": [],
   "source": [
    "# current\n",
    "bss_scalar_c1=pd.read_csv(f'{model25_dir_current}/bss_scalar_results_nomask_model{which_model}_random1_{bin_width}.csv')\n",
    "bss_scalar_c2=pd.read_csv(f'{model25_dir_current}/bss_scalar_results_nomask_model{which_model}_random2_{bin_width}.csv')\n",
    "bss_scalar_c3=pd.read_csv(f'{model25_dir_current}/bss_scalar_results_nomask_model{which_model}_random3_{bin_width}.csv')\n",
    "bss_scalar_c4=pd.read_csv(f'{model25_dir_current}/bss_scalar_results_nomask_model{which_model}_random4_{bin_width}.csv')\n",
    "bss_scalar_c5=pd.read_csv(f'{model25_dir_current}/bss_scalar_results_nomask_model{which_model}_random5_{bin_width}.csv')\n",
    "# future\n",
    "bss_scalar_f1=pd.read_csv(f'{model25_dir_future}/bss_scalar_results_nomask_model{which_model}_random1_{bin_width}.csv')\n",
    "bss_scalar_f2=pd.read_csv(f'{model25_dir_future}/bss_scalar_results_nomask_model{which_model}_random2_{bin_width}.csv')\n",
    "bss_scalar_f3=pd.read_csv(f'{model25_dir_future}/bss_scalar_results_nomask_model{which_model}_random3_{bin_width}.csv')\n",
    "bss_scalar_f4=pd.read_csv(f'{model25_dir_future}/bss_scalar_results_nomask_model{which_model}_random4_{bin_width}.csv')\n",
    "bss_scalar_f5=pd.read_csv(f'{model25_dir_future}/bss_scalar_results_nomask_model{which_model}_random5_{bin_width}.csv')\n",
    "# outlier\n",
    "bss_scalar_out1=pd.read_csv(f'{model25_dir_future}/bss_scalar_outresults_nomask_model{which_model}_random1_0.1.csv')"
   ]
  },
  {
   "cell_type": "markdown",
   "metadata": {},
   "source": [
    "**Forecast probability threshold frequencies** for current, future, and outlier."
   ]
  },
  {
   "cell_type": "code",
   "execution_count": 11,
   "metadata": {},
   "outputs": [],
   "source": [
    "# current\n",
    "bss_freqs_c1=pd.read_csv(f'{model25_dir_current}/bss_freqs_results_nomask_model{which_model}_random1_{bin_width}.csv')\n",
    "bss_freqs_c2=pd.read_csv(f'{model25_dir_current}/bss_freqs_results_nomask_model{which_model}_random2_{bin_width}.csv')\n",
    "bss_freqs_c3=pd.read_csv(f'{model25_dir_current}/bss_freqs_results_nomask_model{which_model}_random3_{bin_width}.csv')\n",
    "bss_freqs_c4=pd.read_csv(f'{model25_dir_current}/bss_freqs_results_nomask_model{which_model}_random4_{bin_width}.csv')\n",
    "bss_freqs_c5=pd.read_csv(f'{model25_dir_current}/bss_freqs_results_nomask_model{which_model}_random5_{bin_width}.csv')\n",
    "# future\n",
    "bss_freqs_f1=pd.read_csv(f'{model25_dir_future}/bss_freqs_results_nomask_model{which_model}_random1_{bin_width}.csv')\n",
    "bss_freqs_f2=pd.read_csv(f'{model25_dir_future}/bss_freqs_results_nomask_model{which_model}_random2_{bin_width}.csv')\n",
    "bss_freqs_f3=pd.read_csv(f'{model25_dir_future}/bss_freqs_results_nomask_model{which_model}_random3_{bin_width}.csv')\n",
    "bss_freqs_f4=pd.read_csv(f'{model25_dir_future}/bss_freqs_results_nomask_model{which_model}_random4_{bin_width}.csv')\n",
    "bss_freqs_f5=pd.read_csv(f'{model25_dir_future}/bss_freqs_results_nomask_model{which_model}_random5_{bin_width}.csv')\n",
    "# outlier\n",
    "bss_freqs_out1=pd.read_csv(f'{model25_dir_future}/bss_freqs_outresults_nomask_model{which_model}_random1_0.1.csv')"
   ]
  },
  {
   "cell_type": "markdown",
   "metadata": {},
   "source": [
    "Test data was too large to compute and save results as one file.\n",
    "\n",
    "Error metrics are aggregated before plotting."
   ]
  },
  {
   "cell_type": "code",
   "execution_count": 12,
   "metadata": {},
   "outputs": [
    {
     "name": "stdout",
     "output_type": "stream",
     "text": [
      "BSS current climate [0.73534263]\n",
      "BSS future climate [0.69868121]\n",
      "BSS future outliers [0.59418043]\n"
     ]
    }
   ],
   "source": [
    "# grab scalar climo values\n",
    "bss_scalar_currentclimo = np.nanmean([bss_scalar_c1[\"climo\"], bss_scalar_c2[\"climo\"],\n",
    "                                      bss_scalar_c3[\"climo\"], bss_scalar_c4[\"climo\"],\n",
    "                                      bss_scalar_c5[\"climo\"]], axis=0)\n",
    "\n",
    "bss_scalar_futureclimo = np.nanmean([bss_scalar_f1[\"climo\"], bss_scalar_f2[\"climo\"],\n",
    "                                     bss_scalar_f3[\"climo\"], bss_scalar_f4[\"climo\"],\n",
    "                                     bss_scalar_f5[\"climo\"]], axis=0)\n",
    "\n",
    "bss_scalar_outlierclimo = bss_scalar_out1[\"climo\"].values\n",
    "\n",
    "# grab scalar BSS values\n",
    "bss_scalar_current = np.nanmean([bss_scalar_c1[\"BSS\"], bss_scalar_c2[\"BSS\"],\n",
    "                                 bss_scalar_c3[\"BSS\"], bss_scalar_c4[\"BSS\"],\n",
    "                                 bss_scalar_c5[\"BSS\"]], axis=0)\n",
    "print(\"BSS current climate\", bss_scalar_current)\n",
    "\n",
    "bss_scalar_future = np.nanmean([bss_scalar_f1[\"BSS\"], bss_scalar_f2[\"BSS\"],\n",
    "                                bss_scalar_f3[\"BSS\"], bss_scalar_f4[\"BSS\"],\n",
    "                                bss_scalar_f5[\"BSS\"]], axis=0)\n",
    "print(\"BSS future climate\", bss_scalar_future)\n",
    "\n",
    "bss_scalar_outlier = bss_scalar_out1[\"BSS\"].values\n",
    "print(\"BSS future outliers\", bss_scalar_outlier)"
   ]
  },
  {
   "cell_type": "code",
   "execution_count": 13,
   "metadata": {},
   "outputs": [
    {
     "name": "stdout",
     "output_type": "stream",
     "text": [
      "resolution current climate [0.01802889]\n",
      "resolution future climate [0.01984519]\n",
      "resolution future outliers [0.0765641]\n"
     ]
    }
   ],
   "source": [
    "# grab scalar BSS values\n",
    "\n",
    "print(\"resolution current climate\", np.nanmean([bss_scalar_c1[\"resolution\"], bss_scalar_c2[\"resolution\"],\n",
    "                                 bss_scalar_c3[\"resolution\"], bss_scalar_c4[\"resolution\"],\n",
    "                                 bss_scalar_c5[\"resolution\"]], axis=0))\n",
    "\n",
    "print(\"resolution future climate\", np.nanmean([bss_scalar_f1[\"resolution\"], bss_scalar_f2[\"resolution\"],\n",
    "                                bss_scalar_f3[\"resolution\"], bss_scalar_f4[\"resolution\"],\n",
    "                                bss_scalar_f5[\"resolution\"]], axis=0))\n",
    "\n",
    "print(\"resolution future outliers\", bss_scalar_out1['resolution'].values)"
   ]
  },
  {
   "cell_type": "code",
   "execution_count": 14,
   "metadata": {},
   "outputs": [
    {
     "name": "stdout",
     "output_type": "stream",
     "text": [
      "uncertainty current climate [0.02433926]\n",
      "uncertainty future climate [0.02754026]\n",
      "uncertainty future outliers [0.1105802]\n"
     ]
    }
   ],
   "source": [
    "# grab scalar BSS values\n",
    "\n",
    "print(\"uncertainty current climate\", np.nanmean([bss_scalar_c1[\"uncertainty\"], bss_scalar_c2[\"uncertainty\"],\n",
    "                                 bss_scalar_c3[\"uncertainty\"], bss_scalar_c4[\"uncertainty\"],\n",
    "                                 bss_scalar_c5[\"uncertainty\"]], axis=0))\n",
    "\n",
    "print(\"uncertainty future climate\", np.nanmean([bss_scalar_f1[\"uncertainty\"], bss_scalar_f2[\"uncertainty\"],\n",
    "                                bss_scalar_f3[\"uncertainty\"], bss_scalar_f4[\"uncertainty\"],\n",
    "                                bss_scalar_f5[\"uncertainty\"]], axis=0))\n",
    "\n",
    "print(\"uncertainty future outliers\", bss_scalar_out1['uncertainty'].values)"
   ]
  },
  {
   "cell_type": "code",
   "execution_count": 15,
   "metadata": {},
   "outputs": [],
   "source": [
    "# take mean of curves for attributes diagrams (y axis)\n",
    "\n",
    "bsscurve_current = np.nanmean([bss_curve_c1[\"Positive_Relative_Freq\"], bss_curve_c2[\"Positive_Relative_Freq\"],\n",
    "                               bss_curve_c3[\"Positive_Relative_Freq\"], bss_curve_c4[\"Positive_Relative_Freq\"],\n",
    "                               bss_curve_c5[\"Positive_Relative_Freq\"]], axis=0)\n",
    "\n",
    "bsscurve_future = np.nanmean([bss_curve_f1[\"Positive_Relative_Freq\"], bss_curve_f2[\"Positive_Relative_Freq\"],\n",
    "                              bss_curve_f3[\"Positive_Relative_Freq\"], bss_curve_f4[\"Positive_Relative_Freq\"],\n",
    "                              bss_curve_f5[\"Positive_Relative_Freq\"]], axis=0)\n",
    "\n",
    "bsscurve_out = bss_curve_out1[\"Positive_Relative_Freq\"].values"
   ]
  },
  {
   "cell_type": "code",
   "execution_count": 16,
   "metadata": {},
   "outputs": [],
   "source": [
    "# take mean of curves for attributes diagrams (inset)\n",
    "\n",
    "bssfreqs_current = np.nanmean([bss_freqs_c1[\"Total_Freq\"], bss_freqs_c2[\"Total_Freq\"],\n",
    "                               bss_freqs_c3[\"Total_Freq\"], bss_freqs_c4[\"Total_Freq\"],\n",
    "                               bss_freqs_c5[\"Total_Freq\"]], axis=0)\n",
    "\n",
    "bssfreqs_future = np.nanmean([bss_freqs_f1[\"Total_Freq\"], bss_freqs_f2[\"Total_Freq\"],\n",
    "                              bss_freqs_f3[\"Total_Freq\"], bss_freqs_f4[\"Total_Freq\"],\n",
    "                              bss_freqs_f5[\"Total_Freq\"]], axis=0)\n",
    "\n",
    "bssfreqs_out = bss_freqs_out1[\"Total_Freq\"].values"
   ]
  },
  {
   "cell_type": "markdown",
   "metadata": {},
   "source": [
    "Assemble the **bootstrap error metrics** for current, future, and outliers.\n",
    "Use numpy interp function to extract y-values for corresponding x-values for fill_between function."
   ]
  },
  {
   "cell_type": "code",
   "execution_count": 17,
   "metadata": {},
   "outputs": [],
   "source": [
    "# current climate performance diagram bootstrap/confidence intervals (95th percentile)\n",
    "path = f'{model25_dir_current}/probability_results_nomask_model25_random*_boot*.csv'\n",
    "files = glob.glob(path)\n",
    "li = []\n",
    "for filename in files:\n",
    "    df = pd.read_csv(filename, index_col=None, header=0)\n",
    "    li.append(df)\n",
    "boot_current = pd.concat(li, axis=0, ignore_index=True)\n",
    "# create plot data for fill_between\n",
    "x_boot = np.arange(0.,1.,0.01)\n",
    "y_btmn_c1 = np.interp(x_boot, (1-boot_current.groupby('Threshold').max()[\"FAR\"]), boot_current.groupby('Threshold').min()[\"POD\"])\n",
    "y_btmn_c2 = np.interp(x_boot, (1-boot_current.groupby('Threshold').min()[\"FAR\"]), boot_current.groupby('Threshold').max()[\"POD\"])\n",
    "\n",
    "# current climate attributes diagram bootstrap/confidence intervals (95th percentile)\n",
    "path = f'{model25_dir_current}/bss_curve_results_nomask_model25_random*_0.05_boot*.csv'\n",
    "files = glob.glob(path)\n",
    "li = []\n",
    "for filename in files:\n",
    "    df = pd.read_csv(filename, index_col=None, header=0)\n",
    "    li.append(df)\n",
    "boot_current_bss = pd.concat(li, axis=0, ignore_index=True)"
   ]
  },
  {
   "cell_type": "code",
   "execution_count": 18,
   "metadata": {},
   "outputs": [],
   "source": [
    "# future climate performance diagram bootstrap/confidence intervals (95th percentile)\n",
    "path = f'{model25_dir_future}/probability_results_nomask_model25_random*_boot*.csv'\n",
    "files = glob.glob(path)\n",
    "li = []\n",
    "for filename in files:\n",
    "    df = pd.read_csv(filename, index_col=None, header=0)\n",
    "    li.append(df)\n",
    "boot_future = pd.concat(li, axis=0, ignore_index=True)\n",
    "# create plot data for fill_between\n",
    "x_boot = np.arange(0.,1.,0.01)\n",
    "y_btmn_f1 = np.interp(x_boot, (1-boot_future.groupby('Threshold').max()[\"FAR\"]), boot_future.groupby('Threshold').min()[\"POD\"])\n",
    "y_btmn_f2 = np.interp(x_boot, (1-boot_future.groupby('Threshold').min()[\"FAR\"]), boot_future.groupby('Threshold').max()[\"POD\"])\n",
    "\n",
    "# future climate attributes diagram bootstrap/confidence intervals (95th percentile)\n",
    "path = f'{model25_dir_future}/bss_curve_results_nomask_model25_random*_0.05_boot*.csv'\n",
    "files = glob.glob(path)\n",
    "li = []\n",
    "for filename in files:\n",
    "    df = pd.read_csv(filename, index_col=None, header=0)\n",
    "    li.append(df)\n",
    "boot_future_bss = pd.concat(li, axis=0, ignore_index=True)"
   ]
  },
  {
   "cell_type": "code",
   "execution_count": 19,
   "metadata": {},
   "outputs": [],
   "source": [
    "# outliers from future climate performance diagram bootstrap/confidence intervals (95th percentile)\n",
    "path = f'{model25_dir_future}/probability_outresults_nomask_model25_random1_boot*.csv'\n",
    "files = glob.glob(path)\n",
    "li = []\n",
    "for filename in files:\n",
    "    df = pd.read_csv(filename, index_col=None, header=0)\n",
    "    li.append(df)\n",
    "boot_outlier = pd.concat(li, axis=0, ignore_index=True)\n",
    "# create plot data for fill_between\n",
    "y_btmn_o1 = np.interp(x_boot, (1-boot_outlier.groupby('Threshold').max()[\"FAR\"]), boot_outlier.groupby('Threshold').min()[\"POD\"])\n",
    "y_btmn_o2 = np.interp(x_boot, (1-boot_outlier.groupby('Threshold').min()[\"FAR\"]), boot_outlier.groupby('Threshold').max()[\"POD\"])\n",
    "\n",
    "# outliers from future climate attributes diagram bootstrap/confidence intervals (95th percentile)\n",
    "path = f'{model25_dir_future}/bss_curve_outresults_nomask_model25_random1_0.1_boot*.csv'\n",
    "files = glob.glob(path)\n",
    "li = []\n",
    "for filename in files:\n",
    "    df = pd.read_csv(filename, index_col=None, header=0)\n",
    "    li.append(df)\n",
    "boot_outlier_bss = pd.concat(li, axis=0, ignore_index=True)"
   ]
  },
  {
   "cell_type": "code",
   "execution_count": 20,
   "metadata": {},
   "outputs": [],
   "source": [
    "# current climate: pod and far\n",
    "dlcurrent_far=np.nanmean([dl_current1[\"FAR\"].values,dl_current2[\"FAR\"].values,dl_current3[\"FAR\"].values,\n",
    "                          dl_current4[\"FAR\"].values,dl_current5[\"FAR\"].values],axis=0)\n",
    "dlcurrent_pod=np.nanmean([dl_current1[\"POD\"].values,dl_current2[\"POD\"].values,dl_current3[\"POD\"].values,\n",
    "                          dl_current4[\"POD\"].values,dl_current5[\"POD\"].values],axis=0)\n",
    "# future climate: pod and far\n",
    "dlfuture_far=np.nanmean([dl_future1[\"FAR\"].values,dl_future2[\"FAR\"].values,dl_future3[\"FAR\"].values,\n",
    "                         dl_future4[\"FAR\"].values,dl_future5[\"FAR\"].values],axis=0)\n",
    "dlfuture_pod=np.nanmean([dl_future1[\"POD\"].values,dl_future2[\"POD\"].values,dl_future3[\"POD\"].values,\n",
    "                         dl_future4[\"POD\"].values,dl_future5[\"POD\"].values],axis=0)\n",
    "# outliers climate: pod and far\n",
    "dlfutureout_far=np.nanmean([dl_future_out1[\"FAR\"].values],axis=0)\n",
    "dlfutureout_pod=np.nanmean([dl_future_out1[\"POD\"].values],axis=0)"
   ]
  },
  {
   "cell_type": "code",
   "execution_count": 21,
   "metadata": {},
   "outputs": [],
   "source": [
    "data_to_save = xr.Dataset({\n",
    "    \n",
    "                'CSI_current': (CSI_current),\n",
    "                'CSI_future': (CSI_future),\n",
    "                'CSI_outlier': (CSI_outlier),\n",
    "\n",
    "                'bss_scalar_currentclimo': (bss_scalar_currentclimo[0]),\n",
    "                'bss_scalar_futureclimo': (bss_scalar_futureclimo[0]),\n",
    "                'bss_scalar_outlierclimo': (bss_scalar_outlierclimo[0]),\n",
    "\n",
    "                'bss_scalar_current': ( bss_scalar_current[0]),\n",
    "                'bss_scalar_future': (bss_scalar_future[0]),\n",
    "                'bss_scalar_outlier': (bss_scalar_outlier[0]),\n",
    "\n",
    "                'bsscurve_current': (['b'], bsscurve_current),\n",
    "                'bsscurve_future': (['b'], bsscurve_future),\n",
    "                'bsscurve_out': (['f'], bsscurve_out),\n",
    "\n",
    "                'bssfreqs_current': (['c'], bssfreqs_current),\n",
    "                'bssfreqs_future': (['c'], bssfreqs_future),\n",
    "                'bssfreqs_out': (['g'], bssfreqs_out),\n",
    "\n",
    "                'x_boot': (['d'], x_boot),\n",
    "                'y_btmn_c1': (['d'], y_btmn_c1),\n",
    "                'y_btmn_c2': (['d'], y_btmn_c2),\n",
    "    \n",
    "                'y_btmn_f1': (['d'], y_btmn_f1),\n",
    "                'y_btmn_f2': (['d'], y_btmn_f2),\n",
    "    \n",
    "                'y_btmn_o1': (['d'], y_btmn_o1),\n",
    "                'y_btmn_o2': (['d'], y_btmn_o2),\n",
    "    \n",
    "                'dlcurrent_far': (['e'], dlcurrent_far),\n",
    "                'dlcurrent_pod': (['e'], dlcurrent_pod),\n",
    "                'dlfuture_far': (['e'], dlfuture_far),\n",
    "                'dlfuture_pod': (['e'], dlfuture_pod),\n",
    "                'dlfutureout_far': (['e'], dlfutureout_far),\n",
    "                'dlfutureout_pod': (['e'], dlfutureout_pod),    \n",
    "})"
   ]
  },
  {
   "cell_type": "code",
   "execution_count": 24,
   "metadata": {},
   "outputs": [],
   "source": [
    "data_to_save.to_netcdf(f'{dlproj_main}/model{which_model}_evaldata.nc')\n",
    "boot_current_bss.to_csv(f'{dlproj_main}/model{which_model}_boot_current_bss.csv')\n",
    "boot_future_bss.to_csv(f'{dlproj_main}/model{which_model}_boot_future_bss.csv')\n",
    "boot_outlier_bss.to_csv(f'{dlproj_main}/model{which_model}_boot_outlier_bss.csv')"
   ]
  },
  {
   "cell_type": "code",
   "execution_count": null,
   "metadata": {},
   "outputs": [],
   "source": []
  }
 ],
 "metadata": {
  "kernelspec": {
   "display_name": "Python [conda env:miniconda3-python-tutorial]",
   "language": "python",
   "name": "conda-env-miniconda3-python-tutorial-py"
  },
  "language_info": {
   "codemirror_mode": {
    "name": "ipython",
    "version": 3
   },
   "file_extension": ".py",
   "mimetype": "text/x-python",
   "name": "python",
   "nbconvert_exporter": "python",
   "pygments_lexer": "ipython3",
   "version": "3.7.3"
  }
 },
 "nbformat": 4,
 "nbformat_minor": 4
}
