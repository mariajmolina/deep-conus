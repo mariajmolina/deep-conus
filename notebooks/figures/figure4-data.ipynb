{
 "cells": [
  {
   "cell_type": "markdown",
   "metadata": {},
   "source": [
    "### Creation of data for Figure 4 (Molina, Gagne, and Prein; under review)\n",
    "\n",
    "Imports"
   ]
  },
  {
   "cell_type": "code",
   "execution_count": 1,
   "metadata": {},
   "outputs": [],
   "source": [
    "import matplotlib.pyplot as plt\n",
    "import seaborn as sns\n",
    "import pandas as pd\n",
    "import numpy as np\n",
    "import matplotlib.gridspec as gridspec\n",
    "import matplotlib.image as mpimg\n",
    "import svgutils.compose as sc\n",
    "from IPython.display import SVG\n",
    "from configpaths import dlproj_main, deep_conus_home, current_dl_preprocess, future_dl_preprocess, current_dl_models, future_dl_models"
   ]
  },
  {
   "cell_type": "code",
   "execution_count": 2,
   "metadata": {},
   "outputs": [],
   "source": [
    "exec(open(f'{deep_conus_home}10_create_study_visualizations.py').read())"
   ]
  },
  {
   "cell_type": "code",
   "execution_count": 4,
   "metadata": {},
   "outputs": [],
   "source": [
    "modelnum = 25"
   ]
  },
  {
   "cell_type": "code",
   "execution_count": 6,
   "metadata": {},
   "outputs": [],
   "source": [
    "currentdata=StudyVisualizer(climate='current', variable1='WMAX', variable2='QVAPOR1',\n",
    "                            dist_directory=f'{current_dl_preprocess}', \n",
    "                            model_directory=f'{current_dl_models}', \n",
    "                            model_num=modelnum, \n",
    "                            comp_directory=f'{current_dl_models}', \n",
    "                            unbalanced=True,\n",
    "                            mask=False, \n",
    "                            random_choice=1)\n",
    "\n",
    "futuredata=StudyVisualizer(climate='future', variable1='WMAX', variable2='QVAPOR1',\n",
    "                           dist_directory=f'{future_dl_preprocess}', \n",
    "                           model_directory=f'{current_dl_models}', \n",
    "                           model_num=modelnum, \n",
    "                           comp_directory=f'{future_dl_models}', \n",
    "                           unbalanced=True,\n",
    "                           mask=False, \n",
    "                           random_choice=1)"
   ]
  },
  {
   "cell_type": "code",
   "execution_count": 7,
   "metadata": {},
   "outputs": [],
   "source": [
    "currentdata2=StudyVisualizer(climate='current', variable1='WMAX', variable2='QVAPOR1',\n",
    "                            dist_directory=f'{current_dl_preprocess}', \n",
    "                            model_directory=f'{current_dl_models}', \n",
    "                            model_num=modelnum, \n",
    "                            comp_directory=f'{current_dl_models}', \n",
    "                            unbalanced=True,\n",
    "                            mask=False, \n",
    "                            random_choice=2)\n",
    "\n",
    "futuredata2=StudyVisualizer(climate='future', variable1='WMAX', variable2='QVAPOR1',\n",
    "                            dist_directory=f'{future_dl_preprocess}', \n",
    "                            model_directory=f'{current_dl_models}', \n",
    "                            model_num=modelnum, \n",
    "                            comp_directory=f'{future_dl_models}', \n",
    "                            unbalanced=True,\n",
    "                            mask=False, \n",
    "                            random_choice=2)\n",
    "\n",
    "currentdata3=StudyVisualizer(climate='current', variable1='WMAX', variable2='QVAPOR1',\n",
    "                            dist_directory=f'{current_dl_preprocess}', \n",
    "                            model_directory=f'{current_dl_models}', \n",
    "                            model_num=modelnum, \n",
    "                            comp_directory=f'{current_dl_models}', \n",
    "                            unbalanced=True,\n",
    "                            mask=False, \n",
    "                            random_choice=3)\n",
    "\n",
    "futuredata3=StudyVisualizer(climate='future', variable1='WMAX', variable2='QVAPOR1',\n",
    "                            dist_directory=f'{future_dl_preprocess}', \n",
    "                            model_directory=f'{current_dl_models}', \n",
    "                            model_num=modelnum, \n",
    "                            comp_directory=f'{future_dl_models}', \n",
    "                            unbalanced=True,\n",
    "                            mask=False, \n",
    "                            random_choice=3)\n",
    "\n",
    "currentdata4=StudyVisualizer(climate='current', variable1='WMAX', variable2='QVAPOR1',\n",
    "                            dist_directory=f'{current_dl_preprocess}', \n",
    "                            model_directory=f'{current_dl_models}', \n",
    "                            model_num=modelnum, \n",
    "                            comp_directory=f'{current_dl_models}', \n",
    "                            unbalanced=True,\n",
    "                            mask=False, \n",
    "                            random_choice=4)\n",
    "\n",
    "futuredata4=StudyVisualizer(climate='future', variable1='WMAX', variable2='QVAPOR1',\n",
    "                            dist_directory=f'{future_dl_preprocess}', \n",
    "                            model_directory=f'{current_dl_models}', \n",
    "                            model_num=modelnum, \n",
    "                            comp_directory=f'{future_dl_models}', \n",
    "                            unbalanced=True,\n",
    "                            mask=False, \n",
    "                            random_choice=4)\n",
    "\n",
    "currentdata5=StudyVisualizer(climate='current', variable1='WMAX', variable2='QVAPOR1',\n",
    "                            dist_directory=f'{current_dl_preprocess}', \n",
    "                            model_directory=f'{current_dl_models}', \n",
    "                            model_num=modelnum, \n",
    "                            comp_directory=f'{current_dl_models}', \n",
    "                            unbalanced=True,\n",
    "                            mask=False, \n",
    "                            random_choice=5)\n",
    "\n",
    "futuredata5=StudyVisualizer(climate='future', variable1='WMAX', variable2='QVAPOR1',\n",
    "                            dist_directory=f'{future_dl_preprocess}', \n",
    "                            model_directory=f'{current_dl_models}', \n",
    "                            model_num=modelnum, \n",
    "                            comp_directory=f'{future_dl_models}', \n",
    "                            unbalanced=True,\n",
    "                            mask=False, \n",
    "                            random_choice=5)"
   ]
  },
  {
   "cell_type": "code",
   "execution_count": 8,
   "metadata": {},
   "outputs": [],
   "source": [
    "current_data=currentdata.extract_variable_and_dbz()\n",
    "future_data=futuredata.extract_variable_and_dbz()\n",
    "\n",
    "currentdata.extract_variable_mean_and_std()\n",
    "futuredata.extract_variable_mean_and_std()\n",
    "\n",
    "curr_data_tp=currentdata.grab_value_of_storm(current_data, group_choice='tp')\n",
    "futu_data_tp=futuredata.grab_value_of_storm(future_data, group_choice='tp')\n",
    "curr_data_tn=currentdata.grab_value_of_storm(current_data, group_choice='tn')\n",
    "futu_data_tn=futuredata.grab_value_of_storm(future_data, group_choice='tn')\n",
    "curr_data_fp=currentdata.grab_value_of_storm(current_data, group_choice='fp')\n",
    "futu_data_fp=futuredata.grab_value_of_storm(future_data, group_choice='fp')\n",
    "curr_data_fn=currentdata.grab_value_of_storm(current_data, group_choice='fn')\n",
    "futu_data_fn=futuredata.grab_value_of_storm(future_data, group_choice='fn')"
   ]
  },
  {
   "cell_type": "code",
   "execution_count": 9,
   "metadata": {},
   "outputs": [],
   "source": [
    "current_data2=currentdata2.extract_variable_and_dbz()\n",
    "future_data2=futuredata2.extract_variable_and_dbz()\n",
    "currentdata2.extract_variable_mean_and_std()\n",
    "futuredata2.extract_variable_mean_and_std()\n",
    "\n",
    "current_data3=currentdata3.extract_variable_and_dbz()\n",
    "future_data3=futuredata3.extract_variable_and_dbz()\n",
    "currentdata3.extract_variable_mean_and_std()\n",
    "futuredata3.extract_variable_mean_and_std()\n",
    "\n",
    "current_data4=currentdata4.extract_variable_and_dbz()\n",
    "future_data4=futuredata4.extract_variable_and_dbz()\n",
    "currentdata4.extract_variable_mean_and_std()\n",
    "futuredata4.extract_variable_mean_and_std()\n",
    "\n",
    "current_data5=currentdata5.extract_variable_and_dbz()\n",
    "future_data5=futuredata5.extract_variable_and_dbz()\n",
    "currentdata5.extract_variable_mean_and_std()\n",
    "futuredata5.extract_variable_mean_and_std()\n",
    "\n",
    "curr_data_fn2=currentdata2.grab_value_of_storm(current_data2, group_choice='fn')\n",
    "futu_data_fn2=futuredata2.grab_value_of_storm(future_data2, group_choice='fn')\n",
    "curr_data_fn3=currentdata3.grab_value_of_storm(current_data3, group_choice='fn')\n",
    "futu_data_fn3=futuredata3.grab_value_of_storm(future_data3, group_choice='fn')\n",
    "curr_data_fn4=currentdata4.grab_value_of_storm(current_data4, group_choice='fn')\n",
    "futu_data_fn4=futuredata4.grab_value_of_storm(future_data4, group_choice='fn')\n",
    "curr_data_fn5=currentdata5.grab_value_of_storm(current_data5, group_choice='fn')\n",
    "futu_data_fn5=futuredata5.grab_value_of_storm(future_data5, group_choice='fn')"
   ]
  },
  {
   "cell_type": "code",
   "execution_count": 10,
   "metadata": {},
   "outputs": [],
   "source": [
    "curr_wind_tp, futu_wind_tp = currentdata.compute_wind_shear(current_data, future_data, comp_str='tp')\n",
    "\n",
    "df_tp=pd.DataFrame(np.zeros((curr_wind_tp[:300].values.shape[0], 4), dtype=float),\n",
    "                columns=[\"QVAPOR_C\",\"SHEAR_C\",\"QVAPOR_F\",\"SHEAR_F\"])\n",
    "\n",
    "df_tp[\"QVAPOR_C\"]=(curr_data_tp[1]*1000)[:300]\n",
    "df_tp[\"SHEAR_C\"]=curr_wind_tp[:300].values\n",
    "df_tp[\"QVAPOR_F\"]=(futu_data_tp[1]*1000)[:300]\n",
    "df_tp[\"SHEAR_F\"]=futu_wind_tp[:300].values"
   ]
  },
  {
   "cell_type": "code",
   "execution_count": 11,
   "metadata": {},
   "outputs": [],
   "source": [
    "curr_wind_tn, futu_wind_tn = currentdata.compute_wind_shear(current_data, future_data, comp_str='tn')\n",
    "\n",
    "df_tn=pd.DataFrame(np.zeros((curr_wind_tn[:300].values.shape[0], 4), dtype=float),\n",
    "                columns=[\"QVAPOR_C\",\"SHEAR_C\",\"QVAPOR_F\",\"SHEAR_F\"])\n",
    "\n",
    "df_tn[\"QVAPOR_C\"]=(curr_data_tn[1]*1000)[:300]\n",
    "df_tn[\"SHEAR_C\"]=curr_wind_tn[:300].values\n",
    "df_tn[\"QVAPOR_F\"]=(futu_data_tn[1]*1000)[:300]\n",
    "df_tn[\"SHEAR_F\"]=futu_wind_tn[:300].values"
   ]
  },
  {
   "cell_type": "code",
   "execution_count": 12,
   "metadata": {},
   "outputs": [],
   "source": [
    "curr_wind_fp, futu_wind_fp = currentdata.compute_wind_shear(current_data, future_data, comp_str='fp')\n",
    "\n",
    "df_fp=pd.DataFrame(np.zeros((curr_wind_fp[:240].values.shape[0], 4), dtype=float),\n",
    "                columns=[\"QVAPOR_C\",\"SHEAR_C\",\"QVAPOR_F\",\"SHEAR_F\"])\n",
    "\n",
    "df_fp[\"QVAPOR_C\"]=(curr_data_fp[1]*1000)[:240]\n",
    "df_fp[\"SHEAR_C\"]=curr_wind_fp[:240].values\n",
    "df_fp[\"QVAPOR_F\"]=(futu_data_fp[1]*1000)[:240]\n",
    "df_fp[\"SHEAR_F\"]=futu_wind_fp[:240].values"
   ]
  },
  {
   "cell_type": "code",
   "execution_count": 13,
   "metadata": {},
   "outputs": [],
   "source": [
    "curr_wind_fn, futu_wind_fn = currentdata.compute_wind_shear(current_data, future_data, comp_str='fn')\n",
    "curr_wind_fn2, futu_wind_fn2 = currentdata2.compute_wind_shear(current_data2, future_data2, comp_str='fn')\n",
    "curr_wind_fn3, futu_wind_fn3 = currentdata3.compute_wind_shear(current_data3, future_data3, comp_str='fn')\n",
    "curr_wind_fn4, futu_wind_fn4 = currentdata4.compute_wind_shear(current_data4, future_data4, comp_str='fn')\n",
    "curr_wind_fn5, futu_wind_fn5 = currentdata5.compute_wind_shear(current_data5, future_data5, comp_str='fn')"
   ]
  },
  {
   "cell_type": "code",
   "execution_count": 14,
   "metadata": {},
   "outputs": [],
   "source": [
    "curr_data_fntotal=xr.concat([curr_data_fn[1],curr_data_fn2[1],curr_data_fn3[1],curr_data_fn4[1],curr_data_fn5[1]],dim='e')\n",
    "futu_data_fntotal=xr.concat([futu_data_fn[1],futu_data_fn2[1],futu_data_fn3[1],futu_data_fn4[1],futu_data_fn5[1]],dim='e')\n",
    "\n",
    "curr_wind_fntotal=xr.concat([curr_wind_fn,curr_wind_fn2,curr_wind_fn3,curr_wind_fn4,curr_wind_fn5],dim='e')\n",
    "futu_wind_fntotal=xr.concat([futu_wind_fn,futu_wind_fn2,futu_wind_fn3,futu_wind_fn4,futu_wind_fn5],dim='e')"
   ]
  },
  {
   "cell_type": "code",
   "execution_count": 15,
   "metadata": {},
   "outputs": [],
   "source": [
    "df_fn=pd.DataFrame(np.zeros((250, 4), dtype=float),\n",
    "                columns=[\"QVAPOR_C\",\"SHEAR_C\",\"QVAPOR_F\",\"SHEAR_F\"])\n",
    "\n",
    "df_fn[\"QVAPOR_C\"]=(curr_data_fntotal*1000)[:250]\n",
    "df_fn[\"SHEAR_C\"]=curr_wind_fntotal.values[:250]\n",
    "df_fn[\"QVAPOR_F\"]=(futu_data_fntotal*1000)[:250]\n",
    "df_fn[\"SHEAR_F\"]=futu_wind_fntotal.values[:250]"
   ]
  },
  {
   "cell_type": "code",
   "execution_count": 16,
   "metadata": {},
   "outputs": [],
   "source": [
    "df_tp.to_csv(f'{dlproj_main}/model{modelnum}_fig4_df_tp.csv')\n",
    "df_fp.to_csv(f'{dlproj_main}/model{modelnum}_fig4_df_fp.csv')\n",
    "df_fn.to_csv(f'{dlproj_main}/model{modelnum}_fig4_df_fn.csv')\n",
    "df_tn.to_csv(f'{dlproj_main}/model{modelnum}_fig4_df_tn.csv')"
   ]
  }
 ],
 "metadata": {
  "kernelspec": {
   "display_name": "Python [conda env:miniconda3-python-tutorial]",
   "language": "python",
   "name": "conda-env-miniconda3-python-tutorial-py"
  },
  "language_info": {
   "codemirror_mode": {
    "name": "ipython",
    "version": 3
   },
   "file_extension": ".py",
   "mimetype": "text/x-python",
   "name": "python",
   "nbconvert_exporter": "python",
   "pygments_lexer": "ipython3",
   "version": "3.7.3"
  }
 },
 "nbformat": 4,
 "nbformat_minor": 4
}
