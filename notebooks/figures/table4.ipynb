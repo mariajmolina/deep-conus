{
 "cells": [
  {
   "cell_type": "markdown",
   "id": "excessive-matter",
   "metadata": {},
   "source": [
    "### Table 4 (Molina, Gagne, Prein; under review)\n",
    "\n",
    "Same as Table 3, but using a model trained with class imbalance addressed (equalsample sizes of potentially severe and non-severe thunderstorms). All other CNN hyperparameters were kept consistent.\n",
    "\n",
    "**Table by Maria J. Molina (NCAR)**"
   ]
  },
  {
   "cell_type": "markdown",
   "id": "apparent-attribute",
   "metadata": {},
   "source": [
    "Imports."
   ]
  },
  {
   "cell_type": "code",
   "execution_count": 1,
   "id": "narrative-fourth",
   "metadata": {},
   "outputs": [],
   "source": [
    "import xarray as xr\n",
    "import numpy as np\n",
    "import pandas as pd\n",
    "import matplotlib.pyplot as plt\n",
    "from configpaths import current_dl_models, future_dl_models"
   ]
  },
  {
   "cell_type": "code",
   "execution_count": 2,
   "id": "forbidden-antigua",
   "metadata": {},
   "outputs": [],
   "source": [
    "def trueneg_sum(directory, modelnum, str_case):\n",
    "    \"\"\"\n",
    "    str_case (str): TP, FP, FN, TN\n",
    "    \"\"\"\n",
    "    print(str_case, np.around([np.nansum([\n",
    "        pd.read_csv(f'{directory}scalar_results_nomask_model{modelnum}_random1.csv')[str_case].values[0],\n",
    "        pd.read_csv(f'{directory}scalar_results_nomask_model{modelnum}_random2.csv')[str_case].values[0],\n",
    "        pd.read_csv(f'{directory}scalar_results_nomask_model{modelnum}_random3.csv')[str_case].values[0],\n",
    "        pd.read_csv(f'{directory}scalar_results_nomask_model{modelnum}_random4.csv')[str_case].values[0],\n",
    "        pd.read_csv(f'{directory}scalar_results_nomask_model{modelnum}_random5.csv')[str_case].values[0]\n",
    "    ])],2))\n",
    "    \n",
    "def trueneg_outsum(directory, modelnum, str_case):\n",
    "    \"\"\"\n",
    "    str_case (str): TP, FP, FN, TN\n",
    "    \"\"\"\n",
    "    print(str_case, np.around([\n",
    "        pd.read_csv(f'{directory}scalar_outresults_nomask_model{modelnum}_random1.csv')[str_case].values[0],\n",
    "    ],2))\n",
    "\n",
    "def trueneg_freqs(directory, modelnum, str_case):\n",
    "    \"\"\"\n",
    "    str_case (str): TP, FP, FN, TN\n",
    "    \"\"\"\n",
    "    print(str_case, np.around([np.nanmean([\n",
    "        pd.read_csv(f'{directory}scalar_results_nomask_model{modelnum}_random1.csv')[str_case].values[0],\n",
    "        pd.read_csv(f'{directory}scalar_results_nomask_model{modelnum}_random2.csv')[str_case].values[0],\n",
    "        pd.read_csv(f'{directory}scalar_results_nomask_model{modelnum}_random3.csv')[str_case].values[0],\n",
    "        pd.read_csv(f'{directory}scalar_results_nomask_model{modelnum}_random4.csv')[str_case].values[0],\n",
    "        pd.read_csv(f'{directory}scalar_results_nomask_model{modelnum}_random5.csv')[str_case].values[0]\n",
    "    ])],2))\n",
    "    \n",
    "def trueneg_outfreqs(directory, modelnum, str_case):\n",
    "    \"\"\"\n",
    "    str_case (str): TP, FP, FN, TN\n",
    "    \"\"\"\n",
    "    print(str_case, np.around([\n",
    "        pd.read_csv(f'{directory}scalar_outresults_nomask_model{modelnum}_random1.csv')[str_case].values[0],\n",
    "    ],2))\n",
    "    \n",
    "def bss_freqs(directory, modelnum, str_case):\n",
    "    \"\"\"\n",
    "    BSS, resolution, uncertainty\n",
    "    \"\"\"\n",
    "    print(str_case, np.around([np.nanmean([\n",
    "        pd.read_csv(f'{directory}bss_scalar_results_nomask_model{modelnum}_random1_0.05.csv')[str_case].values[0],\n",
    "        pd.read_csv(f'{directory}bss_scalar_results_nomask_model{modelnum}_random2_0.05.csv')[str_case].values[0],\n",
    "        pd.read_csv(f'{directory}bss_scalar_results_nomask_model{modelnum}_random3_0.05.csv')[str_case].values[0],\n",
    "        pd.read_csv(f'{directory}bss_scalar_results_nomask_model{modelnum}_random4_0.05.csv')[str_case].values[0],\n",
    "        pd.read_csv(f'{directory}bss_scalar_results_nomask_model{modelnum}_random5_0.05.csv')[str_case].values[0]\n",
    "    ])],2))\n",
    "    \n",
    "def bss_outfreqs(directory, modelnum, str_case):\n",
    "    \"\"\"\n",
    "    BSS, resolution, uncertainty\n",
    "    \"\"\"\n",
    "    print(str_case, np.around([\n",
    "        pd.read_csv(f'{directory}bss_scalar_outresults_nomask_model{modelnum}_random1_0.1.csv')[str_case].values[0],\n",
    "    ],2))"
   ]
  },
  {
   "cell_type": "code",
   "execution_count": 3,
   "id": "altered-democracy",
   "metadata": {},
   "outputs": [
    {
     "name": "stdout",
     "output_type": "stream",
     "text": [
      "TP [10987.]\n",
      "FP [14275.]\n",
      "FN [434.]\n",
      "TN [429055.]\n",
      "AUC [0.96]\n",
      "CSI [0.43]\n",
      "HitRate [0.96]\n",
      "Bias [2.21]\n",
      "BSS [0.11]\n",
      "resolution [0.02]\n",
      "uncertainty [0.02]\n"
     ]
    }
   ],
   "source": [
    "directory = current_dl_models; model = '13'\n",
    "\n",
    "trueneg_sum(directory, model, str_case='TP')\n",
    "trueneg_sum(directory, model, str_case='FP')\n",
    "trueneg_sum(directory, model, str_case='FN')\n",
    "trueneg_sum(directory, model, str_case='TN')\n",
    "\n",
    "trueneg_freqs(directory, model, str_case='AUC')\n",
    "trueneg_freqs(directory, model, str_case='CSI')\n",
    "trueneg_freqs(directory, model, str_case='HitRate')\n",
    "trueneg_freqs(directory, model, str_case='Bias')\n",
    "\n",
    "bss_freqs(directory, model, str_case='BSS')\n",
    "bss_freqs(directory, model, str_case='resolution')\n",
    "bss_freqs(directory, model, str_case='uncertainty')"
   ]
  },
  {
   "cell_type": "code",
   "execution_count": 4,
   "id": "incomplete-permission",
   "metadata": {},
   "outputs": [
    {
     "name": "stdout",
     "output_type": "stream",
     "text": [
      "TP [12422.]\n",
      "FP [13659.]\n",
      "FN [713.]\n",
      "TN [429910.]\n",
      "AUC [0.96]\n",
      "CSI [0.46]\n",
      "HitRate [0.95]\n",
      "Bias [1.99]\n",
      "BSS [0.25]\n",
      "resolution [0.02]\n",
      "uncertainty [0.03]\n"
     ]
    }
   ],
   "source": [
    "directory = future_dl_models; model = '13'\n",
    "\n",
    "trueneg_sum(directory, model, str_case='TP')\n",
    "trueneg_sum(directory, model, str_case='FP')\n",
    "trueneg_sum(directory, model, str_case='FN')\n",
    "trueneg_sum(directory, model, str_case='TN')\n",
    "\n",
    "trueneg_freqs(directory, model, str_case='AUC')\n",
    "trueneg_freqs(directory, model, str_case='CSI')\n",
    "trueneg_freqs(directory, model, str_case='HitRate')\n",
    "trueneg_freqs(directory, model, str_case='Bias')\n",
    "\n",
    "bss_freqs(directory, model, str_case='BSS')\n",
    "bss_freqs(directory, model, str_case='resolution')\n",
    "bss_freqs(directory, model, str_case='uncertainty')"
   ]
  },
  {
   "cell_type": "code",
   "execution_count": 5,
   "id": "restricted-volunteer",
   "metadata": {},
   "outputs": [
    {
     "name": "stdout",
     "output_type": "stream",
     "text": [
      "TP [593.]\n",
      "FP [483.]\n",
      "FN [26.]\n",
      "TN [3468.]\n",
      "AUC [0.92]\n",
      "CSI [0.54]\n",
      "HitRate [0.96]\n",
      "Bias [1.74]\n",
      "BSS [0.39]\n",
      "resolution [0.07]\n",
      "uncertainty [0.12]\n"
     ]
    }
   ],
   "source": [
    "directory = future_dl_models; model = '13'\n",
    "\n",
    "trueneg_outsum(directory, model, str_case='TP')\n",
    "trueneg_outsum(directory, model, str_case='FP')\n",
    "trueneg_outsum(directory, model, str_case='FN')\n",
    "trueneg_outsum(directory, model, str_case='TN')\n",
    "\n",
    "trueneg_outfreqs(directory, model, str_case='AUC')\n",
    "trueneg_outfreqs(directory, model, str_case='CSI')\n",
    "trueneg_outfreqs(directory, model, str_case='HitRate')\n",
    "trueneg_outfreqs(directory, model, str_case='Bias')\n",
    "\n",
    "bss_outfreqs(directory, model, str_case='BSS')\n",
    "bss_outfreqs(directory, model, str_case='resolution')\n",
    "bss_outfreqs(directory, model, str_case='uncertainty')"
   ]
  },
  {
   "cell_type": "code",
   "execution_count": null,
   "id": "closing-sample",
   "metadata": {},
   "outputs": [],
   "source": []
  }
 ],
 "metadata": {
  "kernelspec": {
   "display_name": "Python [conda env:miniconda3-python-tutorial]",
   "language": "python",
   "name": "conda-env-miniconda3-python-tutorial-python3_myenv"
  },
  "language_info": {
   "codemirror_mode": {
    "name": "ipython",
    "version": 3
   },
   "file_extension": ".py",
   "mimetype": "text/x-python",
   "name": "python",
   "nbconvert_exporter": "python",
   "pygments_lexer": "ipython3",
   "version": "3.7.3"
  }
 },
 "nbformat": 4,
 "nbformat_minor": 5
}
