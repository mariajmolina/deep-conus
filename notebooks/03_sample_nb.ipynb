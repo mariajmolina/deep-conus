{
 "cells": [
  {
   "cell_type": "markdown",
   "metadata": {},
   "source": [
    "## Sample Script for the creation of storm patches using ``03_stormpatch_creator`` module\n",
    "\n",
    "Import the module."
   ]
  },
  {
   "cell_type": "code",
   "execution_count": 1,
   "metadata": {},
   "outputs": [],
   "source": [
    "exec(open('/glade/u/home/molina/python_scripts/deep-conus/deep-conus/03_stormpatch_creator.py').read())"
   ]
  },
  {
   "cell_type": "markdown",
   "metadata": {},
   "source": [
    "Storm patches should be created one year at a time per node on Cheyenne supercomputer for proper job distribution.\n",
    "\n",
    "Initially, storm patches will be created for every hour of radar data as contained in the CONUS1 WRF output files.\n",
    "\n",
    "Create the storm patch object using the ``StormPatchCreator`` class."
   ]
  },
  {
   "cell_type": "code",
   "execution_count": 2,
   "metadata": {},
   "outputs": [],
   "source": [
    "test = StormPatchCreator('2012-10-01','2013-09-30 23:00:00', climate='future', \n",
    "                         destination_path='/glade/scratch/molina/DL_proj/future_conus_fields/STORM_PATCHES/')"
   ]
  },
  {
   "cell_type": "markdown",
   "metadata": {},
   "source": [
    "The multiprocessor class is called and jobs are parallelized automatically using ``parallelizing_hourly_func()``."
   ]
  },
  {
   "cell_type": "code",
   "execution_count": 3,
   "metadata": {},
   "outputs": [],
   "source": [
    "#test.parallelizing_hourly_func()"
   ]
  },
  {
   "cell_type": "markdown",
   "metadata": {},
   "source": [
    "Then, storm patch corresponding updraft-helicity (UH) and cloud top temperature (CTT) data will be created for every corresponding 3-hours as contained in the CONUS1 WRF output files."
   ]
  },
  {
   "cell_type": "code",
   "execution_count": 4,
   "metadata": {},
   "outputs": [],
   "source": [
    "test = StormPatchCreator('2000-10-01','2001-09-30 23:00:00', climate='current', \n",
    "                           destination_path='/glade/scratch/molina/DL_proj/current_conus_fields/STORM_PATCHES/', \n",
    "                           uh25_path='/glade/scratch/molina/DL_proj/current_conus_fields/UH25/',\n",
    "                           uh03_path='/glade/scratch/molina/DL_proj/current_conus_fields/UH03/', \n",
    "                           ctt_path='/glade/scratch/molina/DL_proj/current_conus_fields/CTT/')\n",
    "\n",
    "#test.parallelizing_3hourly_func()"
   ]
  },
  {
   "cell_type": "markdown",
   "metadata": {},
   "source": [
    "Finally, the corresponding variable data will be extracted for those 3-hourly storm patches."
   ]
  },
  {
   "cell_type": "code",
   "execution_count": 5,
   "metadata": {},
   "outputs": [],
   "source": [
    "for thevar in ['TK','WMAX']:\n",
    "\n",
    "    test = StormPatchCreator('2000-10-01','2000-10-31 23:00:00', climate='future', \n",
    "                               destination_path='/glade/scratch/molina/DL_proj/future_conus_fields/STORM_PATCHES/',\n",
    "                               variable=thevar,\n",
    "                               variable_path='/glade/scratch/molina/DL_proj/future_conus_fields/')\n",
    "\n",
    "    #test.parallelizing_3Hvariable_func()"
   ]
  },
  {
   "cell_type": "code",
   "execution_count": null,
   "metadata": {},
   "outputs": [],
   "source": []
  }
 ],
 "metadata": {
  "kernelspec": {
   "display_name": "Python [conda env:miniconda3-python-tutorial]",
   "language": "python",
   "name": "conda-env-miniconda3-python-tutorial-py"
  },
  "language_info": {
   "codemirror_mode": {
    "name": "ipython",
    "version": 3
   },
   "file_extension": ".py",
   "mimetype": "text/x-python",
   "name": "python",
   "nbconvert_exporter": "python",
   "pygments_lexer": "ipython3",
   "version": "3.7.3"
  }
 },
 "nbformat": 4,
 "nbformat_minor": 4
}
