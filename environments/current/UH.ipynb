import xarray as xr
import numpy as np
from ncar_jobqueue import NCARCluster
from dask.distributed import Client

cluster = NCARCluster(memory="109GB", cores=36)
cluster.adapt(minimum=14, maximum=45, wait_count=60)
cluster

print(cluster.job_script())

client = Client(cluster)
client
